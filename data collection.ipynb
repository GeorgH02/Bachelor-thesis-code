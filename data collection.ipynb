{
 "cells": [
  {
   "cell_type": "markdown",
   "metadata": {},
   "source": [
    "# Data Analysis and Processing for Sentiment Analysis"
   ]
  },
  {
   "cell_type": "markdown",
   "metadata": {},
   "source": [
    "## 1.6 million random tweets"
   ]
  },
  {
   "cell_type": "code",
   "execution_count": 1,
   "metadata": {},
   "outputs": [
    {
     "data": {
      "text/html": [
       "<div>\n",
       "<style scoped>\n",
       "    .dataframe tbody tr th:only-of-type {\n",
       "        vertical-align: middle;\n",
       "    }\n",
       "\n",
       "    .dataframe tbody tr th {\n",
       "        vertical-align: top;\n",
       "    }\n",
       "\n",
       "    .dataframe thead th {\n",
       "        text-align: right;\n",
       "    }\n",
       "</style>\n",
       "<table border=\"1\" class=\"dataframe\">\n",
       "  <thead>\n",
       "    <tr style=\"text-align: right;\">\n",
       "      <th></th>\n",
       "      <th>index</th>\n",
       "      <th>sentiment</th>\n",
       "      <th>tweet</th>\n",
       "    </tr>\n",
       "  </thead>\n",
       "  <tbody>\n",
       "    <tr>\n",
       "      <th>0</th>\n",
       "      <td>1083042</td>\n",
       "      <td>4</td>\n",
       "      <td>@BLeigh1130 I got the Ricky survey finished, b...</td>\n",
       "    </tr>\n",
       "    <tr>\n",
       "      <th>1</th>\n",
       "      <td>1400552</td>\n",
       "      <td>4</td>\n",
       "      <td>@raliii Welll when you have to again i'm sure ...</td>\n",
       "    </tr>\n",
       "    <tr>\n",
       "      <th>2</th>\n",
       "      <td>170002</td>\n",
       "      <td>0</td>\n",
       "      <td>Migraining today--the naproxen sodium tablets ...</td>\n",
       "    </tr>\n",
       "    <tr>\n",
       "      <th>3</th>\n",
       "      <td>1146244</td>\n",
       "      <td>4</td>\n",
       "      <td>@Kelliekclark1 me too...I hope he feels the sa...</td>\n",
       "    </tr>\n",
       "    <tr>\n",
       "      <th>4</th>\n",
       "      <td>1496286</td>\n",
       "      <td>4</td>\n",
       "      <td>Shrimp again  it must be very good yamm. I was...</td>\n",
       "    </tr>\n",
       "  </tbody>\n",
       "</table>\n",
       "</div>"
      ],
      "text/plain": [
       "     index  sentiment                                              tweet\n",
       "0  1083042          4  @BLeigh1130 I got the Ricky survey finished, b...\n",
       "1  1400552          4  @raliii Welll when you have to again i'm sure ...\n",
       "2   170002          0  Migraining today--the naproxen sodium tablets ...\n",
       "3  1146244          4  @Kelliekclark1 me too...I hope he feels the sa...\n",
       "4  1496286          4  Shrimp again  it must be very good yamm. I was..."
      ]
     },
     "execution_count": 1,
     "metadata": {},
     "output_type": "execute_result"
    }
   ],
   "source": [
    "import pandas as pd\n",
    "# dataset of 1.6 million random tweets\n",
    "# https://www.kaggle.com/datasets/i191796majid/tweets\n",
    "df_rd_tweets = pd.read_csv(\"./analysis_data/1.6 million random tweets/train.csv/train.csv\")\n",
    "df_rd_tweets.head()"
   ]
  },
  {
   "cell_type": "code",
   "execution_count": 2,
   "metadata": {},
   "outputs": [
    {
     "data": {
      "text/plain": [
       "sentiment\n",
       "4    720131\n",
       "0    719869\n",
       "Name: count, dtype: int64"
      ]
     },
     "execution_count": 2,
     "metadata": {},
     "output_type": "execute_result"
    }
   ],
   "source": [
    "df_rd_tweets[\"sentiment\"].value_counts()"
   ]
  },
  {
   "cell_type": "code",
   "execution_count": 3,
   "metadata": {},
   "outputs": [],
   "source": [
    "words = [\"Tesla\", \"Apple\", \"iPhone\", \"MacBook\", \"AirPods\", \"Microsoft\", \"Windows\", \"Meta\", \"Twitter\", \"X\", \"Facebook\", \"Instagram\", \"Elon Musk\", \"Bill Gates\", \"Steve Jobs\", \"Tim Cook\"]"
   ]
  },
  {
   "cell_type": "code",
   "execution_count": 4,
   "metadata": {},
   "outputs": [
    {
     "name": "stdout",
     "output_type": "stream",
     "text": [
      "{'Tesla': 11, 'Apple': 1300, 'iPhone': 4761, 'MacBook': 306, 'AirPods': 0, 'Microsoft': 361, 'Windows': 593, 'Meta': 263, 'Twitter': 10833, 'X': 14655, 'Facebook': 1275, 'Instagram': 0, 'Elon Musk': 0, 'Bill Gates': 11, 'Steve Jobs': 29, 'Tim Cook': 0}\n"
     ]
    }
   ],
   "source": [
    "d_words = dict.fromkeys(words, 0)\n",
    "\n",
    "for key in d_words.keys():\n",
    "    d_words[key] = df_rd_tweets[\"tweet\"].str.contains(key).sum() \n",
    "\n",
    "print(d_words)"
   ]
  },
  {
   "cell_type": "markdown",
   "metadata": {},
   "source": [
    "## Reddit r/Technology"
   ]
  },
  {
   "cell_type": "code",
   "execution_count": 5,
   "metadata": {},
   "outputs": [
    {
     "data": {
      "text/html": [
       "<div>\n",
       "<style scoped>\n",
       "    .dataframe tbody tr th:only-of-type {\n",
       "        vertical-align: middle;\n",
       "    }\n",
       "\n",
       "    .dataframe tbody tr th {\n",
       "        vertical-align: top;\n",
       "    }\n",
       "\n",
       "    .dataframe thead th {\n",
       "        text-align: right;\n",
       "    }\n",
       "</style>\n",
       "<table border=\"1\" class=\"dataframe\">\n",
       "  <thead>\n",
       "    <tr style=\"text-align: right;\">\n",
       "      <th></th>\n",
       "      <th>title</th>\n",
       "      <th>score</th>\n",
       "      <th>id</th>\n",
       "      <th>url</th>\n",
       "      <th>comms_num</th>\n",
       "      <th>created</th>\n",
       "      <th>body</th>\n",
       "      <th>timestamp</th>\n",
       "    </tr>\n",
       "  </thead>\n",
       "  <tbody>\n",
       "    <tr>\n",
       "      <th>0</th>\n",
       "      <td>Germany ups reliance on Huawei for 5G despite ...</td>\n",
       "      <td>1</td>\n",
       "      <td>zooftr</td>\n",
       "      <td>https://www.reuters.com/technology/germany-ups...</td>\n",
       "      <td>0</td>\n",
       "      <td>1.671333e+09</td>\n",
       "      <td>NaN</td>\n",
       "      <td>2022-12-18 05:10:04</td>\n",
       "    </tr>\n",
       "    <tr>\n",
       "      <th>1</th>\n",
       "      <td>Jordan bans TikTok claiming that app was 'inci...</td>\n",
       "      <td>219</td>\n",
       "      <td>zol4zo</td>\n",
       "      <td>https://www.businessinsider.com/jordan-bans-ti...</td>\n",
       "      <td>5</td>\n",
       "      <td>1.671324e+09</td>\n",
       "      <td>NaN</td>\n",
       "      <td>2022-12-18 02:32:42</td>\n",
       "    </tr>\n",
       "    <tr>\n",
       "      <th>2</th>\n",
       "      <td>Abandoned: the human cost of neurotechnology f...</td>\n",
       "      <td>33</td>\n",
       "      <td>zokc3t</td>\n",
       "      <td>https://www.nature.com/immersive/d41586-022-03...</td>\n",
       "      <td>3</td>\n",
       "      <td>1.671322e+09</td>\n",
       "      <td>NaN</td>\n",
       "      <td>2022-12-18 02:02:00</td>\n",
       "    </tr>\n",
       "    <tr>\n",
       "      <th>3</th>\n",
       "      <td>A New, Faster Type of Quantum Computer | \"Pari...</td>\n",
       "      <td>11</td>\n",
       "      <td>zoi4v4</td>\n",
       "      <td>https://scitechdaily.com/a-new-faster-type-of-...</td>\n",
       "      <td>2</td>\n",
       "      <td>1.671316e+09</td>\n",
       "      <td>NaN</td>\n",
       "      <td>2022-12-18 00:26:55</td>\n",
       "    </tr>\n",
       "    <tr>\n",
       "      <th>4</th>\n",
       "      <td>Apple Watch and iPhone crash detection softwar...</td>\n",
       "      <td>63</td>\n",
       "      <td>zohtes</td>\n",
       "      <td>https://globalnews.ca/news/9352161/apple-watch...</td>\n",
       "      <td>16</td>\n",
       "      <td>1.671315e+09</td>\n",
       "      <td>NaN</td>\n",
       "      <td>2022-12-18 00:13:10</td>\n",
       "    </tr>\n",
       "  </tbody>\n",
       "</table>\n",
       "</div>"
      ],
      "text/plain": [
       "                                               title  score      id  \\\n",
       "0  Germany ups reliance on Huawei for 5G despite ...      1  zooftr   \n",
       "1  Jordan bans TikTok claiming that app was 'inci...    219  zol4zo   \n",
       "2  Abandoned: the human cost of neurotechnology f...     33  zokc3t   \n",
       "3  A New, Faster Type of Quantum Computer | \"Pari...     11  zoi4v4   \n",
       "4  Apple Watch and iPhone crash detection softwar...     63  zohtes   \n",
       "\n",
       "                                                 url  comms_num       created  \\\n",
       "0  https://www.reuters.com/technology/germany-ups...          0  1.671333e+09   \n",
       "1  https://www.businessinsider.com/jordan-bans-ti...          5  1.671324e+09   \n",
       "2  https://www.nature.com/immersive/d41586-022-03...          3  1.671322e+09   \n",
       "3  https://scitechdaily.com/a-new-faster-type-of-...          2  1.671316e+09   \n",
       "4  https://globalnews.ca/news/9352161/apple-watch...         16  1.671315e+09   \n",
       "\n",
       "  body            timestamp  \n",
       "0  NaN  2022-12-18 05:10:04  \n",
       "1  NaN  2022-12-18 02:32:42  \n",
       "2  NaN  2022-12-18 02:02:00  \n",
       "3  NaN  2022-12-18 00:26:55  \n",
       "4  NaN  2022-12-18 00:13:10  "
      ]
     },
     "execution_count": 5,
     "metadata": {},
     "output_type": "execute_result"
    }
   ],
   "source": [
    "# dataset of comments from the subreddit r/Technology\n",
    "# https://www.kaggle.com/datasets/thedevastator/uncovering-technology-insights-through-reddit-di\n",
    "df_rtechnology = pd.read_csv(\"./analysis_data/reddit technology.csv\")\n",
    "df_rtechnology.head()"
   ]
  },
  {
   "cell_type": "code",
   "execution_count": 6,
   "metadata": {},
   "outputs": [
    {
     "data": {
      "text/plain": [
       "1757"
      ]
     },
     "execution_count": 6,
     "metadata": {},
     "output_type": "execute_result"
    }
   ],
   "source": [
    "len(df_rtechnology)"
   ]
  },
  {
   "cell_type": "code",
   "execution_count": 7,
   "metadata": {},
   "outputs": [
    {
     "data": {
      "text/plain": [
       "<Axes: >"
      ]
     },
     "execution_count": 7,
     "metadata": {},
     "output_type": "execute_result"
    },
    {
     "data": {
      "image/png": "[encoded data removed]",
      "text/plain": [
       "<Figure size 640x480 with 1 Axes>"
      ]
     },
     "metadata": {},
     "output_type": "display_data"
    }
   ],
   "source": [
    "df_rtechnology[\"score\"].hist()"
   ]
  },
  {
   "cell_type": "code",
   "execution_count": 8,
   "metadata": {},
   "outputs": [
    {
     "data": {
      "text/plain": [
       "0.9260102447353443"
      ]
     },
     "execution_count": 8,
     "metadata": {},
     "output_type": "execute_result"
    }
   ],
   "source": [
    "len(df_rtechnology[df_rtechnology[\"score\"]<1000])/len(df_rtechnology)"
   ]
  },
  {
   "cell_type": "code",
   "execution_count": 9,
   "metadata": {},
   "outputs": [
    {
     "name": "stdout",
     "output_type": "stream",
     "text": [
      "{'Tesla': 15, 'Apple': 56, 'iPhone': 15, 'MacBook': 0, 'AirPods': 0, 'Microsoft': 24, 'Windows': 5, 'Meta': 34, 'Twitter': 25, 'X': 23, 'Facebook': 18, 'Instagram': 3, 'Elon Musk': 6, 'Bill Gates': 0, 'Steve Jobs': 0, 'Tim Cook': 2}\n"
     ]
    }
   ],
   "source": [
    "d_words2 = dict.fromkeys(words, 0)\n",
    "\n",
    "for key in d_words2.keys():\n",
    "    d_words2[key] = df_rtechnology[\"title\"].str.contains(key).sum() \n",
    "\n",
    "print(d_words2)"
   ]
  },
  {
   "cell_type": "markdown",
   "metadata": {},
   "source": [
    "## Big Tech Companies - Tweet Sentiment"
   ]
  },
  {
   "cell_type": "code",
   "execution_count": 10,
   "metadata": {},
   "outputs": [
    {
     "data": {
      "text/html": [
       "<div>\n",
       "<style scoped>\n",
       "    .dataframe tbody tr th:only-of-type {\n",
       "        vertical-align: middle;\n",
       "    }\n",
       "\n",
       "    .dataframe tbody tr th {\n",
       "        vertical-align: top;\n",
       "    }\n",
       "\n",
       "    .dataframe thead th {\n",
       "        text-align: right;\n",
       "    }\n",
       "</style>\n",
       "<table border=\"1\" class=\"dataframe\">\n",
       "  <thead>\n",
       "    <tr style=\"text-align: right;\">\n",
       "      <th></th>\n",
       "      <th>created_at</th>\n",
       "      <th>file_name</th>\n",
       "      <th>followers</th>\n",
       "      <th>friends</th>\n",
       "      <th>group_name</th>\n",
       "      <th>location</th>\n",
       "      <th>retweet_count</th>\n",
       "      <th>screenname</th>\n",
       "      <th>search_query</th>\n",
       "      <th>text</th>\n",
       "      <th>twitter_id</th>\n",
       "      <th>username</th>\n",
       "      <th>polarity</th>\n",
       "      <th>partition_0</th>\n",
       "      <th>partition_1</th>\n",
       "    </tr>\n",
       "  </thead>\n",
       "  <tbody>\n",
       "    <tr>\n",
       "      <th>0</th>\n",
       "      <td>2020-07-12 09:24:26</td>\n",
       "      <td>AMD</td>\n",
       "      <td>25</td>\n",
       "      <td>114</td>\n",
       "      <td>AMD</td>\n",
       "      <td>United Kingdom</td>\n",
       "      <td>0.0</td>\n",
       "      <td>moffphcgaming</td>\n",
       "      <td>#AMD</td>\n",
       "      <td>Been on holiday so back now. Gonna try get som...</td>\n",
       "      <td>1.282244e+18</td>\n",
       "      <td>🕹MoffPHC Gaming🕹</td>\n",
       "      <td>-0.3102</td>\n",
       "      <td>Technology</td>\n",
       "      <td>AMD</td>\n",
       "    </tr>\n",
       "    <tr>\n",
       "      <th>1</th>\n",
       "      <td>2020-07-12 09:09:36</td>\n",
       "      <td>AMD</td>\n",
       "      <td>159</td>\n",
       "      <td>1144</td>\n",
       "      <td>AMD</td>\n",
       "      <td>digitalverse</td>\n",
       "      <td>4.0</td>\n",
       "      <td>ironparr0t</td>\n",
       "      <td>#AMD</td>\n",
       "      <td>RT @NinjaParanoid: #AMD #Ryzen #3900x #rtx2070...</td>\n",
       "      <td>1.282241e+18</td>\n",
       "      <td>ironparrot</td>\n",
       "      <td>0.0000</td>\n",
       "      <td>Technology</td>\n",
       "      <td>AMD</td>\n",
       "    </tr>\n",
       "    <tr>\n",
       "      <th>3</th>\n",
       "      <td>2020-07-12 08:31:24</td>\n",
       "      <td>AMD</td>\n",
       "      <td>9</td>\n",
       "      <td>188</td>\n",
       "      <td>AMD</td>\n",
       "      <td>HAHA no....</td>\n",
       "      <td>0.0</td>\n",
       "      <td>XApochrypha</td>\n",
       "      <td>#AMD</td>\n",
       "      <td>Recently purchased everything for my first per...</td>\n",
       "      <td>1.282231e+18</td>\n",
       "      <td>XenosApochrypha</td>\n",
       "      <td>0.0000</td>\n",
       "      <td>Technology</td>\n",
       "      <td>AMD</td>\n",
       "    </tr>\n",
       "    <tr>\n",
       "      <th>4</th>\n",
       "      <td>2020-07-12 08:16:45</td>\n",
       "      <td>AMD</td>\n",
       "      <td>1719</td>\n",
       "      <td>1</td>\n",
       "      <td>AMD</td>\n",
       "      <td>digitalocean</td>\n",
       "      <td>1.0</td>\n",
       "      <td>LinuxDreams</td>\n",
       "      <td>#AMD</td>\n",
       "      <td>RT @LinuxReviews: #Linux architect Linus Torva...</td>\n",
       "      <td>1.282227e+18</td>\n",
       "      <td>LinuxDreams</td>\n",
       "      <td>-0.3612</td>\n",
       "      <td>Technology</td>\n",
       "      <td>AMD</td>\n",
       "    </tr>\n",
       "    <tr>\n",
       "      <th>7</th>\n",
       "      <td>2020-07-12 08:11:41</td>\n",
       "      <td>AMD</td>\n",
       "      <td>69</td>\n",
       "      <td>135</td>\n",
       "      <td>AMD</td>\n",
       "      <td>Amsterdam</td>\n",
       "      <td>1.0</td>\n",
       "      <td>LinuxReviews</td>\n",
       "      <td>#AMD</td>\n",
       "      <td>#Linux architect Linus Torvalds: AVX512 Is \"A ...</td>\n",
       "      <td>1.282226e+18</td>\n",
       "      <td>LinuxReviews</td>\n",
       "      <td>-0.3612</td>\n",
       "      <td>Technology</td>\n",
       "      <td>AMD</td>\n",
       "    </tr>\n",
       "  </tbody>\n",
       "</table>\n",
       "</div>"
      ],
      "text/plain": [
       "            created_at file_name  followers  friends group_name  \\\n",
       "0  2020-07-12 09:24:26       AMD         25      114        AMD   \n",
       "1  2020-07-12 09:09:36       AMD        159     1144        AMD   \n",
       "3  2020-07-12 08:31:24       AMD          9      188        AMD   \n",
       "4  2020-07-12 08:16:45       AMD       1719        1        AMD   \n",
       "7  2020-07-12 08:11:41       AMD         69      135        AMD   \n",
       "\n",
       "         location  retweet_count     screenname search_query  \\\n",
       "0  United Kingdom            0.0  moffphcgaming         #AMD   \n",
       "1    digitalverse            4.0     ironparr0t         #AMD   \n",
       "3     HAHA no....            0.0    XApochrypha         #AMD   \n",
       "4    digitalocean            1.0    LinuxDreams         #AMD   \n",
       "7       Amsterdam            1.0   LinuxReviews         #AMD   \n",
       "\n",
       "                                                text    twitter_id  \\\n",
       "0  Been on holiday so back now. Gonna try get som...  1.282244e+18   \n",
       "1  RT @NinjaParanoid: #AMD #Ryzen #3900x #rtx2070...  1.282241e+18   \n",
       "3  Recently purchased everything for my first per...  1.282231e+18   \n",
       "4  RT @LinuxReviews: #Linux architect Linus Torva...  1.282227e+18   \n",
       "7  #Linux architect Linus Torvalds: AVX512 Is \"A ...  1.282226e+18   \n",
       "\n",
       "           username  polarity partition_0 partition_1  \n",
       "0  🕹MoffPHC Gaming🕹   -0.3102  Technology         AMD  \n",
       "1        ironparrot    0.0000  Technology         AMD  \n",
       "3   XenosApochrypha    0.0000  Technology         AMD  \n",
       "4       LinuxDreams   -0.3612  Technology         AMD  \n",
       "7      LinuxReviews   -0.3612  Technology         AMD  "
      ]
     },
     "execution_count": 10,
     "metadata": {},
     "output_type": "execute_result"
    }
   ],
   "source": [
    "# Big Tech Companies - Tweet Sentiment \n",
    "# https://www.kaggle.com/datasets/wjia26/big-tech-companies-tweet-sentiment/data\n",
    "import pandas as pd\n",
    "\n",
    "df_tweets_bigtech = pd.read_csv(\"./analysis_data/Big Tech Companies - Tweet Sentiment/Bigtech - 12-07-2020 till 19-09-2020/Bigtech - 12-07-2020 till 19-09-2020.csv\")\n",
    "df_tweets_bigtech.dropna(inplace=True)\n",
    "df_tweets_bigtech.drop_duplicates(inplace=True)\n",
    "df_tweets_bigtech.head()"
   ]
  },
  {
   "cell_type": "code",
   "execution_count": 11,
   "metadata": {},
   "outputs": [
    {
     "data": {
      "text/plain": [
       "604675"
      ]
     },
     "execution_count": 11,
     "metadata": {},
     "output_type": "execute_result"
    }
   ],
   "source": [
    "len(df_tweets_bigtech)"
   ]
  },
  {
   "cell_type": "code",
   "execution_count": 12,
   "metadata": {},
   "outputs": [
    {
     "data": {
      "text/plain": [
       "created_at\n",
       "2020-07-14 21:30:28    26\n",
       "2020-07-17 02:08:54    24\n",
       "2020-07-17 20:59:36    21\n",
       "2020-07-21 16:58:44    19\n",
       "2020-07-15 15:14:47    19\n",
       "                       ..\n",
       "2020-08-07 15:06:40     1\n",
       "2020-08-07 15:06:41     1\n",
       "2020-08-07 15:06:42     1\n",
       "2020-08-07 15:06:47     1\n",
       "2020-08-10 08:22:43     1\n",
       "Name: count, Length: 512936, dtype: int64"
      ]
     },
     "execution_count": 12,
     "metadata": {},
     "output_type": "execute_result"
    }
   ],
   "source": [
    "df_tweets_bigtech[\"created_at\"].value_counts()"
   ]
  },
  {
   "cell_type": "code",
   "execution_count": 13,
   "metadata": {},
   "outputs": [
    {
     "name": "stdout",
     "output_type": "stream",
     "text": [
      "-0.9975 0.9968\n"
     ]
    }
   ],
   "source": [
    "min_polarity = df_tweets_bigtech[\"polarity\"].min()\n",
    "max_polarity = df_tweets_bigtech[\"polarity\"].max()\n",
    "print(min_polarity, max_polarity)"
   ]
  },
  {
   "cell_type": "code",
   "execution_count": 14,
   "metadata": {},
   "outputs": [
    {
     "data": {
      "text/plain": [
       "<Axes: >"
      ]
     },
     "execution_count": 14,
     "metadata": {},
     "output_type": "execute_result"
    },
    {
     "data": {
      "image/png": "[encoded data removed]",
      "text/plain": [
       "<Figure size 640x480 with 1 Axes>"
      ]
     },
     "metadata": {},
     "output_type": "display_data"
    }
   ],
   "source": [
    "# plotting polarity to figure out tresholds for sentiment column\n",
    "df_tweets_bigtech[\"polarity\"].hist()"
   ]
  },
  {
   "cell_type": "code",
   "execution_count": 15,
   "metadata": {},
   "outputs": [],
   "source": [
    "# 0 negative\n",
    "# 1 neutral\n",
    "# 2 positive\n",
    "# function converting polarity to sentiment\n",
    "def polarity_to_sentiment(polarity):\n",
    "    if -0.2 <= polarity <= 0.2:\n",
    "        return 1\n",
    "    if polarity > 0.2:\n",
    "        return 2\n",
    "    else:\n",
    "        return 0\n",
    "    \n",
    "df_tweets_bigtech[\"labels\"] = df_tweets_bigtech[\"polarity\"].apply(polarity_to_sentiment)"
   ]
  },
  {
   "cell_type": "code",
   "execution_count": 16,
   "metadata": {},
   "outputs": [
    {
     "data": {
      "text/plain": [
       "labels\n",
       "1    272152\n",
       "2    257084\n",
       "0     75439\n",
       "Name: count, dtype: int64"
      ]
     },
     "execution_count": 16,
     "metadata": {},
     "output_type": "execute_result"
    }
   ],
   "source": [
    "df_tweets_bigtech[\"labels\"].value_counts()"
   ]
  },
  {
   "cell_type": "code",
   "execution_count": 17,
   "metadata": {},
   "outputs": [
    {
     "data": {
      "text/html": [
       "<div>\n",
       "<style scoped>\n",
       "    .dataframe tbody tr th:only-of-type {\n",
       "        vertical-align: middle;\n",
       "    }\n",
       "\n",
       "    .dataframe tbody tr th {\n",
       "        vertical-align: top;\n",
       "    }\n",
       "\n",
       "    .dataframe thead th {\n",
       "        text-align: right;\n",
       "    }\n",
       "</style>\n",
       "<table border=\"1\" class=\"dataframe\">\n",
       "  <thead>\n",
       "    <tr style=\"text-align: right;\">\n",
       "      <th></th>\n",
       "      <th>text</th>\n",
       "      <th>labels</th>\n",
       "    </tr>\n",
       "  </thead>\n",
       "  <tbody>\n",
       "    <tr>\n",
       "      <th>0</th>\n",
       "      <td>#Apple 'to postpone 5G #iPhone 12 launch until...</td>\n",
       "      <td>0</td>\n",
       "    </tr>\n",
       "    <tr>\n",
       "      <th>1</th>\n",
       "      <td>Very impressive performance, no pun intended, ...</td>\n",
       "      <td>1</td>\n",
       "    </tr>\n",
       "    <tr>\n",
       "      <th>2</th>\n",
       "      <td>#News #App #Apple Kuo: Chinese iPhone Shipment...</td>\n",
       "      <td>0</td>\n",
       "    </tr>\n",
       "    <tr>\n",
       "      <th>3</th>\n",
       "      <td>#Facebook Says #Apple Changes to #iOS Will Dra...</td>\n",
       "      <td>0</td>\n",
       "    </tr>\n",
       "    <tr>\n",
       "      <th>4</th>\n",
       "      <td>RT @latestly: COVID-19 Effect: Quarter of a bi...</td>\n",
       "      <td>0</td>\n",
       "    </tr>\n",
       "  </tbody>\n",
       "</table>\n",
       "</div>"
      ],
      "text/plain": [
       "                                                text  labels\n",
       "0  #Apple 'to postpone 5G #iPhone 12 launch until...       0\n",
       "1  Very impressive performance, no pun intended, ...       1\n",
       "2  #News #App #Apple Kuo: Chinese iPhone Shipment...       0\n",
       "3  #Facebook Says #Apple Changes to #iOS Will Dra...       0\n",
       "4  RT @latestly: COVID-19 Effect: Quarter of a bi...       0"
      ]
     },
     "execution_count": 17,
     "metadata": {},
     "output_type": "execute_result"
    }
   ],
   "source": [
    "bigtech_negative = df_tweets_bigtech[df_tweets_bigtech[\"labels\"]==0].sample(4700, random_state=42)\n",
    "\n",
    "bigtech_neutral = df_tweets_bigtech[df_tweets_bigtech[\"labels\"]==1].sample(4700, random_state=42)\n",
    "\n",
    "bigtech_positive = df_tweets_bigtech[df_tweets_bigtech[\"labels\"]==2].sample(4700, random_state=42)\n",
    "\n",
    "# .sample to shuffle the rows\n",
    "df_tweets_bigtech_sample = pd.concat([bigtech_negative, bigtech_neutral, bigtech_positive], axis=0, ignore_index=True).sample(frac=1, random_state=42).reset_index()\n",
    "df_tweets_bigtech_sample = df_tweets_bigtech_sample[[\"text\", \"labels\"]]\n",
    "df_tweets_bigtech_sample.head()"
   ]
  },
  {
   "cell_type": "code",
   "execution_count": 18,
   "metadata": {},
   "outputs": [
    {
     "data": {
      "text/plain": [
       "14100"
      ]
     },
     "execution_count": 18,
     "metadata": {},
     "output_type": "execute_result"
    }
   ],
   "source": [
    "len(df_tweets_bigtech_sample)"
   ]
  },
  {
   "cell_type": "code",
   "execution_count": 19,
   "metadata": {},
   "outputs": [],
   "source": [
    "df_tweets_bigtech_sample.to_json(\"tweets_bigtech_sample.json\", orient=\"records\")"
   ]
  },
  {
   "cell_type": "code",
   "execution_count": 20,
   "metadata": {},
   "outputs": [
    {
     "data": {
      "text/html": [
       "<div>\n",
       "<style scoped>\n",
       "    .dataframe tbody tr th:only-of-type {\n",
       "        vertical-align: middle;\n",
       "    }\n",
       "\n",
       "    .dataframe tbody tr th {\n",
       "        vertical-align: top;\n",
       "    }\n",
       "\n",
       "    .dataframe thead th {\n",
       "        text-align: right;\n",
       "    }\n",
       "</style>\n",
       "<table border=\"1\" class=\"dataframe\">\n",
       "  <thead>\n",
       "    <tr style=\"text-align: right;\">\n",
       "      <th></th>\n",
       "      <th>text</th>\n",
       "      <th>tokens</th>\n",
       "      <th>labels</th>\n",
       "    </tr>\n",
       "  </thead>\n",
       "  <tbody>\n",
       "    <tr>\n",
       "      <th>0</th>\n",
       "      <td>@NitinArchitect #ArrestRheaNow #shame on #Mumb...</td>\n",
       "      <td>[@NitinArchitect, #ArrestRheaNow, #shame, on, ...</td>\n",
       "      <td>2</td>\n",
       "    </tr>\n",
       "    <tr>\n",
       "      <th>1</th>\n",
       "      <td>RRG CFM Vs Seahawks! WL Prep After! https://t....</td>\n",
       "      <td>[RRG, CFM, Vs, Seahawks!, WL, Prep, After!, ht...</td>\n",
       "      <td>1</td>\n",
       "    </tr>\n",
       "    <tr>\n",
       "      <th>2</th>\n",
       "      <td>RT @LaurelLeafChat: 🍂⚠🤬📧 Watch out for this cl...</td>\n",
       "      <td>[RT, @LaurelLeafChat:, 🍂⚠🤬📧, Watch, out, for, ...</td>\n",
       "      <td>1</td>\n",
       "    </tr>\n",
       "    <tr>\n",
       "      <th>3</th>\n",
       "      <td>The application has failed to start because it...</td>\n",
       "      <td>[The, application, has, failed, to, start, bec...</td>\n",
       "      <td>0</td>\n",
       "    </tr>\n",
       "    <tr>\n",
       "      <th>4</th>\n",
       "      <td>💵💰                 #iPhone X Fully Unlocked fo...</td>\n",
       "      <td>[💵💰, #iPhone, X, Fully, Unlocked, for, $438!!,...</td>\n",
       "      <td>1</td>\n",
       "    </tr>\n",
       "  </tbody>\n",
       "</table>\n",
       "</div>"
      ],
      "text/plain": [
       "                                                text  \\\n",
       "0  @NitinArchitect #ArrestRheaNow #shame on #Mumb...   \n",
       "1  RRG CFM Vs Seahawks! WL Prep After! https://t....   \n",
       "2  RT @LaurelLeafChat: 🍂⚠🤬📧 Watch out for this cl...   \n",
       "3  The application has failed to start because it...   \n",
       "4  💵💰                 #iPhone X Fully Unlocked fo...   \n",
       "\n",
       "                                              tokens  labels  \n",
       "0  [@NitinArchitect, #ArrestRheaNow, #shame, on, ...       2  \n",
       "1  [RRG, CFM, Vs, Seahawks!, WL, Prep, After!, ht...       1  \n",
       "2  [RT, @LaurelLeafChat:, 🍂⚠🤬📧, Watch, out, for, ...       1  \n",
       "3  [The, application, has, failed, to, start, bec...       0  \n",
       "4  [💵💰, #iPhone, X, Fully, Unlocked, for, $438!!,...       1  "
      ]
     },
     "execution_count": 20,
     "metadata": {},
     "output_type": "execute_result"
    }
   ],
   "source": [
    "# creating data for final application that does not overlap with training data\n",
    "\n",
    "all_texts = df_tweets_bigtech[\"text\"].unique()\n",
    "corpus_texts = set(df_tweets_bigtech_sample[\"text\"].unique())\n",
    "remaining_texts = [x for x in all_texts if x not in corpus_texts]\n",
    "\n",
    "remaining_df = df_tweets_bigtech[df_tweets_bigtech[\"text\"].isin(remaining_texts)]\n",
    "\n",
    "# .sample to shuffle the rows\n",
    "df_tweets_bigtech_app = remaining_df.sample(10000, random_state=42).reset_index()\n",
    "\n",
    "df_tweets_bigtech_app[\"tokens\"] = df_tweets_bigtech_app[\"text\"].apply(lambda text: text.split())\n",
    "df_tweets_bigtech_app = df_tweets_bigtech_app[[\"text\", \"tokens\", \"labels\"]]\n",
    "\n",
    "df_tweets_bigtech_app.head()"
   ]
  },
  {
   "cell_type": "code",
   "execution_count": 21,
   "metadata": {},
   "outputs": [],
   "source": [
    "df_tweets_bigtech_app.to_json(\"tweets_bigtech_10k_application.json\", orient=\"records\")"
   ]
  },
  {
   "cell_type": "code",
   "execution_count": 22,
   "metadata": {},
   "outputs": [
    {
     "name": "stdout",
     "output_type": "stream",
     "text": [
      "{'Tesla': 40425, 'Apple': 65303, 'iPhone': 19261, 'MacBook': 2623, 'AirPods': 1209, 'Microsoft': 56456, 'Windows': 5241, 'Meta': 930, 'Twitter': 7614, 'X': 108573, 'Facebook': 11494, 'Instagram': 3190, 'Elon Musk': 1653, 'Bill Gates': 375, 'Steve Jobs': 323, 'Tim Cook': 376}\n"
     ]
    }
   ],
   "source": [
    "d_words3 = dict.fromkeys(words, 0)\n",
    "\n",
    "for key in d_words3.keys():\n",
    "    d_words3[key] = df_tweets_bigtech[\"text\"].str.contains(key).sum() \n",
    "\n",
    "print(d_words3)"
   ]
  },
  {
   "cell_type": "markdown",
   "metadata": {},
   "source": [
    "## Brand Sentiment Analysis"
   ]
  },
  {
   "cell_type": "code",
   "execution_count": 23,
   "metadata": {},
   "outputs": [
    {
     "data": {
      "text/html": [
       "<div>\n",
       "<style scoped>\n",
       "    .dataframe tbody tr th:only-of-type {\n",
       "        vertical-align: middle;\n",
       "    }\n",
       "\n",
       "    .dataframe tbody tr th {\n",
       "        vertical-align: top;\n",
       "    }\n",
       "\n",
       "    .dataframe thead th {\n",
       "        text-align: right;\n",
       "    }\n",
       "</style>\n",
       "<table border=\"1\" class=\"dataframe\">\n",
       "  <thead>\n",
       "    <tr style=\"text-align: right;\">\n",
       "      <th></th>\n",
       "      <th>tweet_text</th>\n",
       "      <th>is_there_an_emotion_directed_at_a_brand_or_product</th>\n",
       "    </tr>\n",
       "  </thead>\n",
       "  <tbody>\n",
       "    <tr>\n",
       "      <th>0</th>\n",
       "      <td>.@wesley83 I have a 3G iPhone. After 3 hrs twe...</td>\n",
       "      <td>Negative emotion</td>\n",
       "    </tr>\n",
       "    <tr>\n",
       "      <th>1</th>\n",
       "      <td>@jessedee Know about @fludapp ? Awesome iPad/i...</td>\n",
       "      <td>Positive emotion</td>\n",
       "    </tr>\n",
       "    <tr>\n",
       "      <th>2</th>\n",
       "      <td>@swonderlin Can not wait for #iPad 2 also. The...</td>\n",
       "      <td>Positive emotion</td>\n",
       "    </tr>\n",
       "    <tr>\n",
       "      <th>3</th>\n",
       "      <td>@sxsw I hope this year's festival isn't as cra...</td>\n",
       "      <td>Negative emotion</td>\n",
       "    </tr>\n",
       "    <tr>\n",
       "      <th>4</th>\n",
       "      <td>@sxtxstate great stuff on Fri #SXSW: Marissa M...</td>\n",
       "      <td>Positive emotion</td>\n",
       "    </tr>\n",
       "  </tbody>\n",
       "</table>\n",
       "</div>"
      ],
      "text/plain": [
       "                                          tweet_text  \\\n",
       "0  .@wesley83 I have a 3G iPhone. After 3 hrs twe...   \n",
       "1  @jessedee Know about @fludapp ? Awesome iPad/i...   \n",
       "2  @swonderlin Can not wait for #iPad 2 also. The...   \n",
       "3  @sxsw I hope this year's festival isn't as cra...   \n",
       "4  @sxtxstate great stuff on Fri #SXSW: Marissa M...   \n",
       "\n",
       "  is_there_an_emotion_directed_at_a_brand_or_product  \n",
       "0                                   Negative emotion  \n",
       "1                                   Positive emotion  \n",
       "2                                   Positive emotion  \n",
       "3                                   Negative emotion  \n",
       "4                                   Positive emotion  "
      ]
     },
     "execution_count": 23,
     "metadata": {},
     "output_type": "execute_result"
    }
   ],
   "source": [
    "# Brand Sentiment Analysis Dataset \n",
    "# https://www.kaggle.com/datasets/tusharpaul2001/brand-sentiment-analysis-dataset?select=Dataset+-+Train.csv\n",
    "df_brd_sa = pd.read_csv(\"./analysis_data/Brand Sentiment Analysis Dataset/Dataset - Train.csv\")\n",
    "df_brd_sa = df_brd_sa[[\"tweet_text\", \"is_there_an_emotion_directed_at_a_brand_or_product\"]]\n",
    "df_brd_sa.dropna(inplace=True)\n",
    "df_brd_sa.drop_duplicates(inplace=True)\n",
    "df_brd_sa.head()"
   ]
  },
  {
   "cell_type": "code",
   "execution_count": 24,
   "metadata": {},
   "outputs": [
    {
     "data": {
      "text/plain": [
       "8566"
      ]
     },
     "execution_count": 24,
     "metadata": {},
     "output_type": "execute_result"
    }
   ],
   "source": [
    "len(df_brd_sa)"
   ]
  },
  {
   "cell_type": "code",
   "execution_count": 25,
   "metadata": {},
   "outputs": [
    {
     "data": {
      "text/plain": [
       "504"
      ]
     },
     "execution_count": 25,
     "metadata": {},
     "output_type": "execute_result"
    }
   ],
   "source": [
    "df_brd_sa_test = pd.read_csv(\"./analysis_data/Brand Sentiment Analysis Dataset/Dataset - Test.csv\")\n",
    "len(df_brd_sa_test)"
   ]
  },
  {
   "cell_type": "code",
   "execution_count": 26,
   "metadata": {},
   "outputs": [
    {
     "data": {
      "text/html": [
       "<div>\n",
       "<style scoped>\n",
       "    .dataframe tbody tr th:only-of-type {\n",
       "        vertical-align: middle;\n",
       "    }\n",
       "\n",
       "    .dataframe tbody tr th {\n",
       "        vertical-align: top;\n",
       "    }\n",
       "\n",
       "    .dataframe thead th {\n",
       "        text-align: right;\n",
       "    }\n",
       "</style>\n",
       "<table border=\"1\" class=\"dataframe\">\n",
       "  <thead>\n",
       "    <tr style=\"text-align: right;\">\n",
       "      <th></th>\n",
       "      <th>Tweet</th>\n",
       "    </tr>\n",
       "  </thead>\n",
       "  <tbody>\n",
       "    <tr>\n",
       "      <th>0</th>\n",
       "      <td>Hand-Held ���Hobo�۪: Drafthouse launches ���Ho...</td>\n",
       "    </tr>\n",
       "    <tr>\n",
       "      <th>1</th>\n",
       "      <td>Again? RT @mention Line at the Apple store is ...</td>\n",
       "    </tr>\n",
       "    <tr>\n",
       "      <th>2</th>\n",
       "      <td>Boooo! RT @mention Flipboard is developing an ...</td>\n",
       "    </tr>\n",
       "    <tr>\n",
       "      <th>3</th>\n",
       "      <td>Thanks to @mention for publishing the news of ...</td>\n",
       "    </tr>\n",
       "    <tr>\n",
       "      <th>4</th>\n",
       "      <td>���@mention &amp;quot;Apple has opened a pop-up st...</td>\n",
       "    </tr>\n",
       "  </tbody>\n",
       "</table>\n",
       "</div>"
      ],
      "text/plain": [
       "                                               Tweet\n",
       "0  Hand-Held ���Hobo�۪: Drafthouse launches ���Ho...\n",
       "1  Again? RT @mention Line at the Apple store is ...\n",
       "2  Boooo! RT @mention Flipboard is developing an ...\n",
       "3  Thanks to @mention for publishing the news of ...\n",
       "4  ���@mention &quot;Apple has opened a pop-up st..."
      ]
     },
     "execution_count": 26,
     "metadata": {},
     "output_type": "execute_result"
    }
   ],
   "source": [
    "# test-document has no labels\n",
    "df_brd_sa_test.head()"
   ]
  },
  {
   "cell_type": "code",
   "execution_count": 27,
   "metadata": {},
   "outputs": [],
   "source": [
    "import re\n",
    "from urlextract import URLExtract\n",
    "\n",
    "extractor = URLExtract()\n",
    "\n",
    "def format_tweet(tweet):\n",
    "    # mask web urls\n",
    "    urls = extractor.find_urls(tweet)\n",
    "    for url in urls:\n",
    "        tweet = tweet.replace(url, \"{{URL}}\")\n",
    "    # format twitter account\n",
    "    tweet = re.sub(r\"\\b(\\s*)(@[\\S]+)\\b\", r'\\1{\\2@}', tweet)\n",
    "    return tweet"
   ]
  },
  {
   "cell_type": "code",
   "execution_count": 28,
   "metadata": {},
   "outputs": [],
   "source": [
    "#df_brd_sa[\"tweet_text\"] = df_brd_sa.apply(lambda x: format_tweet(str(x[\"tweet_text\"])), axis=1)"
   ]
  },
  {
   "cell_type": "code",
   "execution_count": 29,
   "metadata": {},
   "outputs": [
    {
     "data": {
      "text/plain": [
       "is_there_an_emotion_directed_at_a_brand_or_product\n",
       "No emotion toward brand or product    5375\n",
       "Positive emotion                      2664\n",
       "Negative emotion                       518\n",
       "I can't tell                             9\n",
       "Name: count, dtype: int64"
      ]
     },
     "execution_count": 29,
     "metadata": {},
     "output_type": "execute_result"
    }
   ],
   "source": [
    "df_brd_sa[\"is_there_an_emotion_directed_at_a_brand_or_product\"].value_counts()"
   ]
  },
  {
   "cell_type": "code",
   "execution_count": 30,
   "metadata": {},
   "outputs": [
    {
     "name": "stderr",
     "output_type": "stream",
     "text": [
      "C:\\Users\\hausb\\AppData\\Local\\Temp\\ipykernel_16196\\2208101424.py:2: FutureWarning: Downcasting behavior in `replace` is deprecated and will be removed in a future version. To retain the old behavior, explicitly call `result.infer_objects(copy=False)`. To opt-in to the future behavior, set `pd.set_option('future.no_silent_downcasting', True)`\n",
      "  df_brd_sa[\"labels\"] = df_brd_sa[\"is_there_an_emotion_directed_at_a_brand_or_product\"].replace({\"Negative emotion\" : 0, \"Positive emotion\" : 2, \"No emotion toward brand or product\" : 1, \"I can't tell\" : 1})\n"
     ]
    }
   ],
   "source": [
    "# converting labels to numeric\n",
    "df_brd_sa[\"labels\"] = df_brd_sa[\"is_there_an_emotion_directed_at_a_brand_or_product\"].replace({\"Negative emotion\" : 0, \"Positive emotion\" : 2, \"No emotion toward brand or product\" : 1, \"I can't tell\" : 1})"
   ]
  },
  {
   "cell_type": "code",
   "execution_count": 31,
   "metadata": {},
   "outputs": [],
   "source": [
    "df_brd_sa.rename(columns={\"tweet_text\" : \"text\"}, inplace=True)\n",
    "df_brd_sa = df_brd_sa[[\"text\", \"labels\"]]"
   ]
  },
  {
   "cell_type": "code",
   "execution_count": 32,
   "metadata": {},
   "outputs": [
    {
     "data": {
      "text/plain": [
       "labels\n",
       "1    5384\n",
       "2    2664\n",
       "0     518\n",
       "Name: count, dtype: int64"
      ]
     },
     "execution_count": 32,
     "metadata": {},
     "output_type": "execute_result"
    }
   ],
   "source": [
    "df_brd_sa[\"labels\"].value_counts()"
   ]
  },
  {
   "cell_type": "code",
   "execution_count": 33,
   "metadata": {},
   "outputs": [
    {
     "data": {
      "text/html": [
       "<div>\n",
       "<style scoped>\n",
       "    .dataframe tbody tr th:only-of-type {\n",
       "        vertical-align: middle;\n",
       "    }\n",
       "\n",
       "    .dataframe tbody tr th {\n",
       "        vertical-align: top;\n",
       "    }\n",
       "\n",
       "    .dataframe thead th {\n",
       "        text-align: right;\n",
       "    }\n",
       "</style>\n",
       "<table border=\"1\" class=\"dataframe\">\n",
       "  <thead>\n",
       "    <tr style=\"text-align: right;\">\n",
       "      <th></th>\n",
       "      <th>text</th>\n",
       "      <th>labels</th>\n",
       "    </tr>\n",
       "  </thead>\n",
       "  <tbody>\n",
       "    <tr>\n",
       "      <th>0</th>\n",
       "      <td>Yeah Googlegays! Get your SxSWSex on! @mention...</td>\n",
       "      <td>2</td>\n",
       "    </tr>\n",
       "    <tr>\n",
       "      <th>1</th>\n",
       "      <td>RT @mention Join actsofsharing.com tonight.  t...</td>\n",
       "      <td>2</td>\n",
       "    </tr>\n",
       "    <tr>\n",
       "      <th>2</th>\n",
       "      <td>#SXSW Go let's you rate &amp;amp; review sessions ...</td>\n",
       "      <td>0</td>\n",
       "    </tr>\n",
       "    <tr>\n",
       "      <th>3</th>\n",
       "      <td>@mention Google Circles will be Lame. #sxsw &amp;lt;3</td>\n",
       "      <td>0</td>\n",
       "    </tr>\n",
       "    <tr>\n",
       "      <th>4</th>\n",
       "      <td>RT @mention And it will suck. RT @mention RT @...</td>\n",
       "      <td>0</td>\n",
       "    </tr>\n",
       "  </tbody>\n",
       "</table>\n",
       "</div>"
      ],
      "text/plain": [
       "                                                text  labels\n",
       "0  Yeah Googlegays! Get your SxSWSex on! @mention...       2\n",
       "1  RT @mention Join actsofsharing.com tonight.  t...       2\n",
       "2  #SXSW Go let's you rate &amp; review sessions ...       0\n",
       "3  @mention Google Circles will be Lame. #sxsw &lt;3       0\n",
       "4  RT @mention And it will suck. RT @mention RT @...       0"
      ]
     },
     "execution_count": 33,
     "metadata": {},
     "output_type": "execute_result"
    }
   ],
   "source": [
    "# creating sample with equal sentiment distribution\n",
    "brd_sa_negative = df_brd_sa[df_brd_sa[\"labels\"]==0].sample(500, random_state=42)\n",
    "\n",
    "brd_sa_neutral = df_brd_sa[df_brd_sa[\"labels\"]==1].sample(500, random_state=42)\n",
    "\n",
    "brd_sa_positive = df_brd_sa[df_brd_sa[\"labels\"]==2].sample(500, random_state=42)\n",
    "\n",
    "# .sample to shuffle the rows\n",
    "df_brd_sa_sample = pd.concat([brd_sa_negative, brd_sa_neutral, brd_sa_positive], axis=0, ignore_index=True).sample(frac=1, random_state=42).reset_index()\n",
    "df_brd_sa_sample = df_brd_sa_sample[[\"text\", \"labels\"]]\n",
    "df_brd_sa_sample.head()"
   ]
  },
  {
   "cell_type": "code",
   "execution_count": 34,
   "metadata": {},
   "outputs": [
    {
     "data": {
      "text/plain": [
       "1500"
      ]
     },
     "execution_count": 34,
     "metadata": {},
     "output_type": "execute_result"
    }
   ],
   "source": [
    "len(df_brd_sa_sample)"
   ]
  },
  {
   "cell_type": "code",
   "execution_count": 35,
   "metadata": {},
   "outputs": [],
   "source": [
    "#df_brd_sa.to_csv(\"./SA_data/brand_sentiment_analysis_preprocessed.csv\", index=False)"
   ]
  },
  {
   "cell_type": "code",
   "execution_count": 36,
   "metadata": {},
   "outputs": [
    {
     "name": "stdout",
     "output_type": "stream",
     "text": [
      "{'Tesla': 0, 'Apple': 1678, 'iPhone': 1259, 'MacBook': 24, 'AirPods': 0, 'Microsoft': 28, 'Windows': 15, 'Meta': 0, 'Twitter': 103, 'X': 4385, 'Facebook': 66, 'Instagram': 8, 'Elon Musk': 0, 'Bill Gates': 0, 'Steve Jobs': 6, 'Tim Cook': 0}\n"
     ]
    }
   ],
   "source": [
    "d_words4 = dict.fromkeys(words, 0)\n",
    "\n",
    "for key in d_words4.keys():\n",
    "    d_words4[key] = df_brd_sa[\"text\"].str.contains(key).sum() \n",
    "\n",
    "print(d_words4)"
   ]
  },
  {
   "cell_type": "markdown",
   "metadata": {},
   "source": [
    "## Tweets Sentiment Classification"
   ]
  },
  {
   "cell_type": "code",
   "execution_count": 37,
   "metadata": {},
   "outputs": [
    {
     "data": {
      "text/html": [
       "<div>\n",
       "<style scoped>\n",
       "    .dataframe tbody tr th:only-of-type {\n",
       "        vertical-align: middle;\n",
       "    }\n",
       "\n",
       "    .dataframe tbody tr th {\n",
       "        vertical-align: top;\n",
       "    }\n",
       "\n",
       "    .dataframe thead th {\n",
       "        text-align: right;\n",
       "    }\n",
       "</style>\n",
       "<table border=\"1\" class=\"dataframe\">\n",
       "  <thead>\n",
       "    <tr style=\"text-align: right;\">\n",
       "      <th></th>\n",
       "      <th>label</th>\n",
       "      <th>tweet</th>\n",
       "    </tr>\n",
       "    <tr>\n",
       "      <th>id</th>\n",
       "      <th></th>\n",
       "      <th></th>\n",
       "    </tr>\n",
       "  </thead>\n",
       "  <tbody>\n",
       "    <tr>\n",
       "      <th>1</th>\n",
       "      <td>0</td>\n",
       "      <td>#fingerprint #Pregnancy Test https://goo.gl/h1...</td>\n",
       "    </tr>\n",
       "    <tr>\n",
       "      <th>2</th>\n",
       "      <td>0</td>\n",
       "      <td>Finally a transparant silicon case ^^ Thanks t...</td>\n",
       "    </tr>\n",
       "    <tr>\n",
       "      <th>3</th>\n",
       "      <td>0</td>\n",
       "      <td>We love this! Would you go? #talk #makememorie...</td>\n",
       "    </tr>\n",
       "    <tr>\n",
       "      <th>4</th>\n",
       "      <td>0</td>\n",
       "      <td>I'm wired I know I'm George I was made that wa...</td>\n",
       "    </tr>\n",
       "    <tr>\n",
       "      <th>5</th>\n",
       "      <td>1</td>\n",
       "      <td>What amazing service! Apple won't even talk to...</td>\n",
       "    </tr>\n",
       "  </tbody>\n",
       "</table>\n",
       "</div>"
      ],
      "text/plain": [
       "    label                                              tweet\n",
       "id                                                          \n",
       "1       0  #fingerprint #Pregnancy Test https://goo.gl/h1...\n",
       "2       0  Finally a transparant silicon case ^^ Thanks t...\n",
       "3       0  We love this! Would you go? #talk #makememorie...\n",
       "4       0  I'm wired I know I'm George I was made that wa...\n",
       "5       1  What amazing service! Apple won't even talk to..."
      ]
     },
     "execution_count": 37,
     "metadata": {},
     "output_type": "execute_result"
    }
   ],
   "source": [
    "# Tweets Sentiment Classification \n",
    "# https://www.kaggle.com/datasets/bhrt97/tweets-sentiment-classification?resource=download\n",
    "df_tweets_sc = pd.read_csv(\"./SA_data/Tweets Sentiment Classification/train.csv\", index_col=\"id\")\n",
    "\n",
    "# test-dataset has no labels \n",
    "#df_tweets_sc_ts = pd.read_csv(\"./SA_data/Tweets Sentiment Classification/test.csv\", index_col=\"id\")\n",
    "#df_tweets_sc = pd.concat([df_tweets_sc_tr, df_tweets_sc_ts])\n",
    "df_tweets_sc.head()"
   ]
  },
  {
   "cell_type": "code",
   "execution_count": 38,
   "metadata": {},
   "outputs": [
    {
     "data": {
      "text/plain": [
       "7920"
      ]
     },
     "execution_count": 38,
     "metadata": {},
     "output_type": "execute_result"
    }
   ],
   "source": [
    "df_tweets_sc.dropna(inplace=True)\n",
    "len(df_tweets_sc)"
   ]
  },
  {
   "cell_type": "code",
   "execution_count": 39,
   "metadata": {},
   "outputs": [
    {
     "data": {
      "text/html": [
       "<div>\n",
       "<style scoped>\n",
       "    .dataframe tbody tr th:only-of-type {\n",
       "        vertical-align: middle;\n",
       "    }\n",
       "\n",
       "    .dataframe tbody tr th {\n",
       "        vertical-align: top;\n",
       "    }\n",
       "\n",
       "    .dataframe thead th {\n",
       "        text-align: right;\n",
       "    }\n",
       "</style>\n",
       "<table border=\"1\" class=\"dataframe\">\n",
       "  <thead>\n",
       "    <tr style=\"text-align: right;\">\n",
       "      <th></th>\n",
       "      <th>label</th>\n",
       "      <th>tweet</th>\n",
       "    </tr>\n",
       "    <tr>\n",
       "      <th>id</th>\n",
       "      <th></th>\n",
       "      <th></th>\n",
       "    </tr>\n",
       "  </thead>\n",
       "  <tbody>\n",
       "    <tr>\n",
       "      <th>1</th>\n",
       "      <td>0</td>\n",
       "      <td>#fingerprint #Pregnancy Test https://goo.gl/h1...</td>\n",
       "    </tr>\n",
       "    <tr>\n",
       "      <th>2</th>\n",
       "      <td>0</td>\n",
       "      <td>Finally a transparant silicon case ^^ Thanks t...</td>\n",
       "    </tr>\n",
       "    <tr>\n",
       "      <th>3</th>\n",
       "      <td>0</td>\n",
       "      <td>We love this! Would you go? #talk #makememorie...</td>\n",
       "    </tr>\n",
       "    <tr>\n",
       "      <th>4</th>\n",
       "      <td>0</td>\n",
       "      <td>I'm wired I know I'm George I was made that wa...</td>\n",
       "    </tr>\n",
       "    <tr>\n",
       "      <th>5</th>\n",
       "      <td>2</td>\n",
       "      <td>What amazing service! Apple won't even talk to...</td>\n",
       "    </tr>\n",
       "  </tbody>\n",
       "</table>\n",
       "</div>"
      ],
      "text/plain": [
       "    label                                              tweet\n",
       "id                                                          \n",
       "1       0  #fingerprint #Pregnancy Test https://goo.gl/h1...\n",
       "2       0  Finally a transparant silicon case ^^ Thanks t...\n",
       "3       0  We love this! Would you go? #talk #makememorie...\n",
       "4       0  I'm wired I know I'm George I was made that wa...\n",
       "5       2  What amazing service! Apple won't even talk to..."
      ]
     },
     "execution_count": 39,
     "metadata": {},
     "output_type": "execute_result"
    }
   ],
   "source": [
    "df_tweets_sc[\"label\"] = df_tweets_sc[\"label\"].astype(int)\n",
    "\n",
    "# replacing 1 with 2 because in other data 2 = positive sentiment\n",
    "df_tweets_sc[\"label\"] = df_tweets_sc[\"label\"].replace({1:2})\n",
    "df_tweets_sc.head()"
   ]
  },
  {
   "cell_type": "code",
   "execution_count": 40,
   "metadata": {},
   "outputs": [
    {
     "data": {
      "text/plain": [
       "label\n",
       "0    5894\n",
       "2    2026\n",
       "Name: count, dtype: int64"
      ]
     },
     "execution_count": 40,
     "metadata": {},
     "output_type": "execute_result"
    }
   ],
   "source": [
    "df_tweets_sc[\"label\"].value_counts()"
   ]
  },
  {
   "cell_type": "code",
   "execution_count": 41,
   "metadata": {},
   "outputs": [],
   "source": [
    "df_tweets_sc[\"tweet\"] = df_tweets_sc.apply(lambda x: format_tweet(str(x[\"tweet\"])), axis=1)"
   ]
  },
  {
   "cell_type": "code",
   "execution_count": 42,
   "metadata": {},
   "outputs": [
    {
     "data": {
      "text/html": [
       "<div>\n",
       "<style scoped>\n",
       "    .dataframe tbody tr th:only-of-type {\n",
       "        vertical-align: middle;\n",
       "    }\n",
       "\n",
       "    .dataframe tbody tr th {\n",
       "        vertical-align: top;\n",
       "    }\n",
       "\n",
       "    .dataframe thead th {\n",
       "        text-align: right;\n",
       "    }\n",
       "</style>\n",
       "<table border=\"1\" class=\"dataframe\">\n",
       "  <thead>\n",
       "    <tr style=\"text-align: right;\">\n",
       "      <th></th>\n",
       "      <th>label</th>\n",
       "      <th>tweet</th>\n",
       "    </tr>\n",
       "    <tr>\n",
       "      <th>id</th>\n",
       "      <th></th>\n",
       "      <th></th>\n",
       "    </tr>\n",
       "  </thead>\n",
       "  <tbody>\n",
       "    <tr>\n",
       "      <th>1</th>\n",
       "      <td>0</td>\n",
       "      <td>#fingerprint #Pregnancy Test {{URL}} #android ...</td>\n",
       "    </tr>\n",
       "    <tr>\n",
       "      <th>2</th>\n",
       "      <td>0</td>\n",
       "      <td>Finally a transparant silicon case ^^ Thanks t...</td>\n",
       "    </tr>\n",
       "    <tr>\n",
       "      <th>3</th>\n",
       "      <td>0</td>\n",
       "      <td>We love this! Would you go? #talk #makememorie...</td>\n",
       "    </tr>\n",
       "    <tr>\n",
       "      <th>4</th>\n",
       "      <td>0</td>\n",
       "      <td>I'm wired I know I'm George I was made that wa...</td>\n",
       "    </tr>\n",
       "    <tr>\n",
       "      <th>5</th>\n",
       "      <td>2</td>\n",
       "      <td>What amazing service! Apple won't even talk to...</td>\n",
       "    </tr>\n",
       "  </tbody>\n",
       "</table>\n",
       "</div>"
      ],
      "text/plain": [
       "    label                                              tweet\n",
       "id                                                          \n",
       "1       0  #fingerprint #Pregnancy Test {{URL}} #android ...\n",
       "2       0  Finally a transparant silicon case ^^ Thanks t...\n",
       "3       0  We love this! Would you go? #talk #makememorie...\n",
       "4       0  I'm wired I know I'm George I was made that wa...\n",
       "5       2  What amazing service! Apple won't even talk to..."
      ]
     },
     "execution_count": 42,
     "metadata": {},
     "output_type": "execute_result"
    }
   ],
   "source": [
    "df_tweets_sc.head()"
   ]
  },
  {
   "cell_type": "code",
   "execution_count": 43,
   "metadata": {},
   "outputs": [],
   "source": [
    "#df_tweets_sc.to_csv(\"./SA_data/Tweets Sentiment Classification/tweets_sentiment_classification_preprocessed.csv\", index=False)"
   ]
  },
  {
   "cell_type": "markdown",
   "metadata": {},
   "source": [
    "## Twitter US Airline Sentiment"
   ]
  },
  {
   "cell_type": "code",
   "execution_count": 44,
   "metadata": {},
   "outputs": [
    {
     "data": {
      "text/html": [
       "<div>\n",
       "<style scoped>\n",
       "    .dataframe tbody tr th:only-of-type {\n",
       "        vertical-align: middle;\n",
       "    }\n",
       "\n",
       "    .dataframe tbody tr th {\n",
       "        vertical-align: top;\n",
       "    }\n",
       "\n",
       "    .dataframe thead th {\n",
       "        text-align: right;\n",
       "    }\n",
       "</style>\n",
       "<table border=\"1\" class=\"dataframe\">\n",
       "  <thead>\n",
       "    <tr style=\"text-align: right;\">\n",
       "      <th></th>\n",
       "      <th>text</th>\n",
       "      <th>airline_sentiment</th>\n",
       "    </tr>\n",
       "  </thead>\n",
       "  <tbody>\n",
       "    <tr>\n",
       "      <th>0</th>\n",
       "      <td>@VirginAmerica What @dhepburn said.</td>\n",
       "      <td>neutral</td>\n",
       "    </tr>\n",
       "    <tr>\n",
       "      <th>1</th>\n",
       "      <td>@VirginAmerica plus you've added commercials t...</td>\n",
       "      <td>positive</td>\n",
       "    </tr>\n",
       "    <tr>\n",
       "      <th>2</th>\n",
       "      <td>@VirginAmerica I didn't today... Must mean I n...</td>\n",
       "      <td>neutral</td>\n",
       "    </tr>\n",
       "    <tr>\n",
       "      <th>3</th>\n",
       "      <td>@VirginAmerica it's really aggressive to blast...</td>\n",
       "      <td>negative</td>\n",
       "    </tr>\n",
       "    <tr>\n",
       "      <th>4</th>\n",
       "      <td>@VirginAmerica and it's a really big bad thing...</td>\n",
       "      <td>negative</td>\n",
       "    </tr>\n",
       "  </tbody>\n",
       "</table>\n",
       "</div>"
      ],
      "text/plain": [
       "                                                text airline_sentiment\n",
       "0                @VirginAmerica What @dhepburn said.           neutral\n",
       "1  @VirginAmerica plus you've added commercials t...          positive\n",
       "2  @VirginAmerica I didn't today... Must mean I n...           neutral\n",
       "3  @VirginAmerica it's really aggressive to blast...          negative\n",
       "4  @VirginAmerica and it's a really big bad thing...          negative"
      ]
     },
     "execution_count": 44,
     "metadata": {},
     "output_type": "execute_result"
    }
   ],
   "source": [
    "# data of tweets directed at US airlines\n",
    "# https://www.kaggle.com/datasets/crowdflower/twitter-airline-sentiment\n",
    "import pandas as pd\n",
    "\n",
    "df_airline = pd.read_csv(\"./SA_data/Twitter US Airline Sentiment.csv\")\n",
    "df_airline = df_airline[[\"text\", \"airline_sentiment\"]]\n",
    "df_airline.head()"
   ]
  },
  {
   "cell_type": "code",
   "execution_count": 45,
   "metadata": {},
   "outputs": [
    {
     "name": "stdout",
     "output_type": "stream",
     "text": [
      "14640\n",
      "14452\n"
     ]
    }
   ],
   "source": [
    "print(len(df_airline))\n",
    "df_airline.dropna(inplace=True)\n",
    "df_airline.drop_duplicates(inplace=True)\n",
    "print(len(df_airline))"
   ]
  },
  {
   "cell_type": "code",
   "execution_count": 46,
   "metadata": {},
   "outputs": [
    {
     "data": {
      "text/plain": [
       "airline_sentiment\n",
       "negative    9087\n",
       "neutral     3067\n",
       "positive    2298\n",
       "Name: count, dtype: int64"
      ]
     },
     "execution_count": 46,
     "metadata": {},
     "output_type": "execute_result"
    }
   ],
   "source": [
    "df_airline[\"airline_sentiment\"].value_counts()"
   ]
  },
  {
   "cell_type": "code",
   "execution_count": 47,
   "metadata": {},
   "outputs": [
    {
     "name": "stderr",
     "output_type": "stream",
     "text": [
      "C:\\Users\\hausb\\AppData\\Local\\Temp\\ipykernel_16196\\2427724938.py:2: FutureWarning: A value is trying to be set on a copy of a DataFrame or Series through chained assignment using an inplace method.\n",
      "The behavior will change in pandas 3.0. This inplace method will never work because the intermediate object on which we are setting values always behaves as a copy.\n",
      "\n",
      "For example, when doing 'df[col].method(value, inplace=True)', try using 'df.method({col: value}, inplace=True)' or df[col] = df[col].method(value) instead, to perform the operation inplace on the original object.\n",
      "\n",
      "\n",
      "  df_airline[\"airline_sentiment\"].replace({\"negative\" : 0, \"neutral\" : 1, \"positive\" : 2}, inplace=True)\n",
      "C:\\Users\\hausb\\AppData\\Local\\Temp\\ipykernel_16196\\2427724938.py:2: FutureWarning: Downcasting behavior in `replace` is deprecated and will be removed in a future version. To retain the old behavior, explicitly call `result.infer_objects(copy=False)`. To opt-in to the future behavior, set `pd.set_option('future.no_silent_downcasting', True)`\n",
      "  df_airline[\"airline_sentiment\"].replace({\"negative\" : 0, \"neutral\" : 1, \"positive\" : 2}, inplace=True)\n"
     ]
    },
    {
     "data": {
      "text/html": [
       "<div>\n",
       "<style scoped>\n",
       "    .dataframe tbody tr th:only-of-type {\n",
       "        vertical-align: middle;\n",
       "    }\n",
       "\n",
       "    .dataframe tbody tr th {\n",
       "        vertical-align: top;\n",
       "    }\n",
       "\n",
       "    .dataframe thead th {\n",
       "        text-align: right;\n",
       "    }\n",
       "</style>\n",
       "<table border=\"1\" class=\"dataframe\">\n",
       "  <thead>\n",
       "    <tr style=\"text-align: right;\">\n",
       "      <th></th>\n",
       "      <th>text</th>\n",
       "      <th>labels</th>\n",
       "    </tr>\n",
       "  </thead>\n",
       "  <tbody>\n",
       "    <tr>\n",
       "      <th>0</th>\n",
       "      <td>@VirginAmerica What @dhepburn said.</td>\n",
       "      <td>1</td>\n",
       "    </tr>\n",
       "    <tr>\n",
       "      <th>1</th>\n",
       "      <td>@VirginAmerica plus you've added commercials t...</td>\n",
       "      <td>2</td>\n",
       "    </tr>\n",
       "    <tr>\n",
       "      <th>2</th>\n",
       "      <td>@VirginAmerica I didn't today... Must mean I n...</td>\n",
       "      <td>1</td>\n",
       "    </tr>\n",
       "    <tr>\n",
       "      <th>3</th>\n",
       "      <td>@VirginAmerica it's really aggressive to blast...</td>\n",
       "      <td>0</td>\n",
       "    </tr>\n",
       "    <tr>\n",
       "      <th>4</th>\n",
       "      <td>@VirginAmerica and it's a really big bad thing...</td>\n",
       "      <td>0</td>\n",
       "    </tr>\n",
       "  </tbody>\n",
       "</table>\n",
       "</div>"
      ],
      "text/plain": [
       "                                                text  labels\n",
       "0                @VirginAmerica What @dhepburn said.       1\n",
       "1  @VirginAmerica plus you've added commercials t...       2\n",
       "2  @VirginAmerica I didn't today... Must mean I n...       1\n",
       "3  @VirginAmerica it's really aggressive to blast...       0\n",
       "4  @VirginAmerica and it's a really big bad thing...       0"
      ]
     },
     "execution_count": 47,
     "metadata": {},
     "output_type": "execute_result"
    }
   ],
   "source": [
    "# convert sentiment column to numeric structure\n",
    "df_airline[\"airline_sentiment\"].replace({\"negative\" : 0, \"neutral\" : 1, \"positive\" : 2}, inplace=True)\n",
    "df_airline.rename(columns={\"airline_sentiment\" : \"labels\"}, inplace=True)\n",
    "df_airline.head()"
   ]
  },
  {
   "cell_type": "code",
   "execution_count": 48,
   "metadata": {},
   "outputs": [
    {
     "data": {
      "text/html": [
       "<div>\n",
       "<style scoped>\n",
       "    .dataframe tbody tr th:only-of-type {\n",
       "        vertical-align: middle;\n",
       "    }\n",
       "\n",
       "    .dataframe tbody tr th {\n",
       "        vertical-align: top;\n",
       "    }\n",
       "\n",
       "    .dataframe thead th {\n",
       "        text-align: right;\n",
       "    }\n",
       "</style>\n",
       "<table border=\"1\" class=\"dataframe\">\n",
       "  <thead>\n",
       "    <tr style=\"text-align: right;\">\n",
       "      <th></th>\n",
       "      <th>text</th>\n",
       "      <th>labels</th>\n",
       "    </tr>\n",
       "  </thead>\n",
       "  <tbody>\n",
       "    <tr>\n",
       "      <th>0</th>\n",
       "      <td>@AmericanAir bad weather happens but lack of p...</td>\n",
       "      <td>0</td>\n",
       "    </tr>\n",
       "    <tr>\n",
       "      <th>1</th>\n",
       "      <td>@united what time does check in open for fligh...</td>\n",
       "      <td>1</td>\n",
       "    </tr>\n",
       "    <tr>\n",
       "      <th>2</th>\n",
       "      <td>@united I understand why the pilot would get o...</td>\n",
       "      <td>1</td>\n",
       "    </tr>\n",
       "    <tr>\n",
       "      <th>3</th>\n",
       "      <td>@united there are a lot of unhappy cold people...</td>\n",
       "      <td>0</td>\n",
       "    </tr>\n",
       "    <tr>\n",
       "      <th>4</th>\n",
       "      <td>@USAirways now my rebooked connection is delayed.</td>\n",
       "      <td>0</td>\n",
       "    </tr>\n",
       "  </tbody>\n",
       "</table>\n",
       "</div>"
      ],
      "text/plain": [
       "                                                text  labels\n",
       "0  @AmericanAir bad weather happens but lack of p...       0\n",
       "1  @united what time does check in open for fligh...       1\n",
       "2  @united I understand why the pilot would get o...       1\n",
       "3  @united there are a lot of unhappy cold people...       0\n",
       "4  @USAirways now my rebooked connection is delayed.       0"
      ]
     },
     "execution_count": 48,
     "metadata": {},
     "output_type": "execute_result"
    }
   ],
   "source": [
    "# creating sample with equal sentiment distribution\n",
    "df_airline_negative = df_airline[df_airline[\"labels\"]==0].sample(1667, random_state=42)\n",
    "df_airline_neutral = df_airline[df_airline[\"labels\"]==1].sample(1668, random_state=42)\n",
    "df_airline_positive = df_airline[df_airline[\"labels\"]==2].sample(1667, random_state=42)\n",
    "\n",
    "# .sample to shuffle the rows\n",
    "df_airline_sample = pd.concat([df_airline_negative, df_airline_neutral, df_airline_positive], axis=0, ignore_index=True).sample(frac=1, random_state=42).reset_index()\n",
    "df_airline_sample = df_airline_sample[[\"text\", \"labels\"]]\n",
    "df_airline_sample.head()"
   ]
  },
  {
   "cell_type": "code",
   "execution_count": 49,
   "metadata": {},
   "outputs": [
    {
     "data": {
      "text/plain": [
       "5002"
      ]
     },
     "execution_count": 49,
     "metadata": {},
     "output_type": "execute_result"
    }
   ],
   "source": [
    "len(df_airline_sample)"
   ]
  },
  {
   "cell_type": "markdown",
   "metadata": {},
   "source": [
    "## Sentiment and Emotions labeled tweets - Dell"
   ]
  },
  {
   "cell_type": "code",
   "execution_count": 50,
   "metadata": {},
   "outputs": [
    {
     "data": {
      "text/html": [
       "<div>\n",
       "<style scoped>\n",
       "    .dataframe tbody tr th:only-of-type {\n",
       "        vertical-align: middle;\n",
       "    }\n",
       "\n",
       "    .dataframe tbody tr th {\n",
       "        vertical-align: top;\n",
       "    }\n",
       "\n",
       "    .dataframe thead th {\n",
       "        text-align: right;\n",
       "    }\n",
       "</style>\n",
       "<table border=\"1\" class=\"dataframe\">\n",
       "  <thead>\n",
       "    <tr style=\"text-align: right;\">\n",
       "      <th></th>\n",
       "      <th>Unnamed: 0</th>\n",
       "      <th>Datetime</th>\n",
       "      <th>Tweet Id</th>\n",
       "      <th>Text</th>\n",
       "      <th>Username</th>\n",
       "      <th>sentiment</th>\n",
       "      <th>sentiment_score</th>\n",
       "      <th>emotion</th>\n",
       "      <th>emotion_score</th>\n",
       "    </tr>\n",
       "  </thead>\n",
       "  <tbody>\n",
       "    <tr>\n",
       "      <th>0</th>\n",
       "      <td>0</td>\n",
       "      <td>2022-09-30 23:29:15+00:00</td>\n",
       "      <td>1575991191170342912</td>\n",
       "      <td>@Logitech @apple @Google @Microsoft @Dell @Len...</td>\n",
       "      <td>ManjuSreedaran</td>\n",
       "      <td>neutral</td>\n",
       "      <td>0.853283</td>\n",
       "      <td>anticipation</td>\n",
       "      <td>0.587121</td>\n",
       "    </tr>\n",
       "    <tr>\n",
       "      <th>1</th>\n",
       "      <td>1</td>\n",
       "      <td>2022-09-30 21:46:35+00:00</td>\n",
       "      <td>1575965354425131008</td>\n",
       "      <td>@MK_habit_addict @official_stier @MortalKombat...</td>\n",
       "      <td>MiKeMcDnet</td>\n",
       "      <td>neutral</td>\n",
       "      <td>0.519470</td>\n",
       "      <td>joy</td>\n",
       "      <td>0.886913</td>\n",
       "    </tr>\n",
       "    <tr>\n",
       "      <th>2</th>\n",
       "      <td>2</td>\n",
       "      <td>2022-09-30 21:18:02+00:00</td>\n",
       "      <td>1575958171423752203</td>\n",
       "      <td>As @CRN celebrates its 40th anniversary, Bob F...</td>\n",
       "      <td>jfollett</td>\n",
       "      <td>positive</td>\n",
       "      <td>0.763791</td>\n",
       "      <td>joy</td>\n",
       "      <td>0.960347</td>\n",
       "    </tr>\n",
       "    <tr>\n",
       "      <th>3</th>\n",
       "      <td>3</td>\n",
       "      <td>2022-09-30 20:05:24+00:00</td>\n",
       "      <td>1575939891485032450</td>\n",
       "      <td>@dell your customer service is horrible especi...</td>\n",
       "      <td>daveccarr</td>\n",
       "      <td>negative</td>\n",
       "      <td>0.954023</td>\n",
       "      <td>anger</td>\n",
       "      <td>0.983203</td>\n",
       "    </tr>\n",
       "    <tr>\n",
       "      <th>4</th>\n",
       "      <td>4</td>\n",
       "      <td>2022-09-30 20:03:17+00:00</td>\n",
       "      <td>1575939359160750080</td>\n",
       "      <td>@zacokalo @Dell @DellCares @Dell give the man ...</td>\n",
       "      <td>heycamella</td>\n",
       "      <td>neutral</td>\n",
       "      <td>0.529170</td>\n",
       "      <td>anger</td>\n",
       "      <td>0.776124</td>\n",
       "    </tr>\n",
       "  </tbody>\n",
       "</table>\n",
       "</div>"
      ],
      "text/plain": [
       "   Unnamed: 0                   Datetime             Tweet Id  \\\n",
       "0           0  2022-09-30 23:29:15+00:00  1575991191170342912   \n",
       "1           1  2022-09-30 21:46:35+00:00  1575965354425131008   \n",
       "2           2  2022-09-30 21:18:02+00:00  1575958171423752203   \n",
       "3           3  2022-09-30 20:05:24+00:00  1575939891485032450   \n",
       "4           4  2022-09-30 20:03:17+00:00  1575939359160750080   \n",
       "\n",
       "                                                Text        Username  \\\n",
       "0  @Logitech @apple @Google @Microsoft @Dell @Len...  ManjuSreedaran   \n",
       "1  @MK_habit_addict @official_stier @MortalKombat...      MiKeMcDnet   \n",
       "2  As @CRN celebrates its 40th anniversary, Bob F...        jfollett   \n",
       "3  @dell your customer service is horrible especi...       daveccarr   \n",
       "4  @zacokalo @Dell @DellCares @Dell give the man ...      heycamella   \n",
       "\n",
       "  sentiment  sentiment_score       emotion  emotion_score  \n",
       "0   neutral         0.853283  anticipation       0.587121  \n",
       "1   neutral         0.519470           joy       0.886913  \n",
       "2  positive         0.763791           joy       0.960347  \n",
       "3  negative         0.954023         anger       0.983203  \n",
       "4   neutral         0.529170         anger       0.776124  "
      ]
     },
     "execution_count": 50,
     "metadata": {},
     "output_type": "execute_result"
    }
   ],
   "source": [
    "# Sentiment and Emotions labelled tweets - Dell \n",
    "# https://www.kaggle.com/datasets/ankitkumar2635/sentiment-and-emotions-of-tweets\n",
    "import pandas as pd\n",
    "\n",
    "df_dell = pd.read_csv(\"./SA_data/sentiment-emotion-labelled_Dell_tweets.csv\")\n",
    "df_dell.dropna(inplace=True)\n",
    "df_dell.drop_duplicates(inplace=True)\n",
    "df_dell.head()"
   ]
  },
  {
   "cell_type": "code",
   "execution_count": 51,
   "metadata": {},
   "outputs": [
    {
     "data": {
      "text/plain": [
       "24970"
      ]
     },
     "execution_count": 51,
     "metadata": {},
     "output_type": "execute_result"
    }
   ],
   "source": [
    "len(df_dell)"
   ]
  },
  {
   "cell_type": "code",
   "execution_count": 52,
   "metadata": {},
   "outputs": [
    {
     "data": {
      "text/html": [
       "<div>\n",
       "<style scoped>\n",
       "    .dataframe tbody tr th:only-of-type {\n",
       "        vertical-align: middle;\n",
       "    }\n",
       "\n",
       "    .dataframe tbody tr th {\n",
       "        vertical-align: top;\n",
       "    }\n",
       "\n",
       "    .dataframe thead th {\n",
       "        text-align: right;\n",
       "    }\n",
       "</style>\n",
       "<table border=\"1\" class=\"dataframe\">\n",
       "  <thead>\n",
       "    <tr style=\"text-align: right;\">\n",
       "      <th></th>\n",
       "      <th>Datetime</th>\n",
       "      <th>Text</th>\n",
       "      <th>sentiment</th>\n",
       "    </tr>\n",
       "  </thead>\n",
       "  <tbody>\n",
       "    <tr>\n",
       "      <th>0</th>\n",
       "      <td>2022-09-30 23:29:15+00:00</td>\n",
       "      <td>@Logitech @apple @Google @Microsoft @Dell @Len...</td>\n",
       "      <td>neutral</td>\n",
       "    </tr>\n",
       "    <tr>\n",
       "      <th>1</th>\n",
       "      <td>2022-09-30 21:46:35+00:00</td>\n",
       "      <td>@MK_habit_addict @official_stier @MortalKombat...</td>\n",
       "      <td>neutral</td>\n",
       "    </tr>\n",
       "    <tr>\n",
       "      <th>2</th>\n",
       "      <td>2022-09-30 21:18:02+00:00</td>\n",
       "      <td>As @CRN celebrates its 40th anniversary, Bob F...</td>\n",
       "      <td>positive</td>\n",
       "    </tr>\n",
       "    <tr>\n",
       "      <th>3</th>\n",
       "      <td>2022-09-30 20:05:24+00:00</td>\n",
       "      <td>@dell your customer service is horrible especi...</td>\n",
       "      <td>negative</td>\n",
       "    </tr>\n",
       "    <tr>\n",
       "      <th>4</th>\n",
       "      <td>2022-09-30 20:03:17+00:00</td>\n",
       "      <td>@zacokalo @Dell @DellCares @Dell give the man ...</td>\n",
       "      <td>neutral</td>\n",
       "    </tr>\n",
       "  </tbody>\n",
       "</table>\n",
       "</div>"
      ],
      "text/plain": [
       "                    Datetime  \\\n",
       "0  2022-09-30 23:29:15+00:00   \n",
       "1  2022-09-30 21:46:35+00:00   \n",
       "2  2022-09-30 21:18:02+00:00   \n",
       "3  2022-09-30 20:05:24+00:00   \n",
       "4  2022-09-30 20:03:17+00:00   \n",
       "\n",
       "                                                Text sentiment  \n",
       "0  @Logitech @apple @Google @Microsoft @Dell @Len...   neutral  \n",
       "1  @MK_habit_addict @official_stier @MortalKombat...   neutral  \n",
       "2  As @CRN celebrates its 40th anniversary, Bob F...  positive  \n",
       "3  @dell your customer service is horrible especi...  negative  \n",
       "4  @zacokalo @Dell @DellCares @Dell give the man ...   neutral  "
      ]
     },
     "execution_count": 52,
     "metadata": {},
     "output_type": "execute_result"
    }
   ],
   "source": [
    "df_dell = df_dell[[\"Datetime\", \"Text\", \"sentiment\"]]\n",
    "df_dell.head()"
   ]
  },
  {
   "cell_type": "code",
   "execution_count": 53,
   "metadata": {},
   "outputs": [
    {
     "data": {
      "text/plain": [
       "sentiment\n",
       "negative    10556\n",
       "positive     7366\n",
       "neutral      7048\n",
       "Name: count, dtype: int64"
      ]
     },
     "execution_count": 53,
     "metadata": {},
     "output_type": "execute_result"
    }
   ],
   "source": [
    "df_dell[\"sentiment\"].value_counts()"
   ]
  },
  {
   "cell_type": "code",
   "execution_count": 54,
   "metadata": {},
   "outputs": [
    {
     "data": {
      "text/plain": [
       "0        2022-09-30 23:29:15+00:00\n",
       "1        2022-09-30 21:46:35+00:00\n",
       "2        2022-09-30 21:18:02+00:00\n",
       "3        2022-09-30 20:05:24+00:00\n",
       "4        2022-09-30 20:03:17+00:00\n",
       "                   ...            \n",
       "24965    2022-01-01 02:02:04+00:00\n",
       "24966    2022-01-01 01:57:34+00:00\n",
       "24967    2022-01-01 01:36:36+00:00\n",
       "24968    2022-01-01 01:31:30+00:00\n",
       "24969    2022-01-01 00:59:37+00:00\n",
       "Name: Datetime, Length: 24970, dtype: object"
      ]
     },
     "execution_count": 54,
     "metadata": {},
     "output_type": "execute_result"
    }
   ],
   "source": [
    "df_dell[\"Datetime\"]"
   ]
  },
  {
   "cell_type": "code",
   "execution_count": 55,
   "metadata": {},
   "outputs": [
    {
     "name": "stdout",
     "output_type": "stream",
     "text": [
      "@Dell           22990\n",
      "@DellCares       2493\n",
      "@MichaelDell     2077\n",
      "@dell            1257\n",
      "@elonmusk        1111\n",
      "@Twitter         1096\n",
      "@emc             1017\n",
      "@Alienware        994\n",
      "@HP               936\n",
      "@Microsoft        834\n",
      "@DellTech         715\n",
      "@Dell_IN          704\n",
      "@Apple            594\n",
      "@intel            561\n",
      "@Dell,            537\n",
      "@Lenovo           504\n",
      "@DellOutlet       396\n",
      "@AlokOhrie        369\n",
      "@starwars         342\n",
      "@ScienceNews      337\n",
      "dtype: int64\n"
     ]
    }
   ],
   "source": [
    "import pandas as pd\n",
    "import re\n",
    "from collections import Counter\n",
    "\n",
    "# counting most frequent mentions\n",
    "df_dell[\"mentions\"] = df_dell[\"Text\"].apply(lambda x: re.findall(r'@\\S+', str(x)) if pd.notna(x) else [])\n",
    "all_mentions = [mention for mentions in df_dell[\"mentions\"] for mention in mentions]\n",
    "mention_counts = pd.Series(Counter(all_mentions))\n",
    "mention_counts = mention_counts.sort_values(ascending=False)\n",
    "print(mention_counts[:20])"
   ]
  },
  {
   "cell_type": "code",
   "execution_count": 56,
   "metadata": {},
   "outputs": [
    {
     "data": {
      "text/html": [
       "<div>\n",
       "<style scoped>\n",
       "    .dataframe tbody tr th:only-of-type {\n",
       "        vertical-align: middle;\n",
       "    }\n",
       "\n",
       "    .dataframe tbody tr th {\n",
       "        vertical-align: top;\n",
       "    }\n",
       "\n",
       "    .dataframe thead th {\n",
       "        text-align: right;\n",
       "    }\n",
       "</style>\n",
       "<table border=\"1\" class=\"dataframe\">\n",
       "  <thead>\n",
       "    <tr style=\"text-align: right;\">\n",
       "      <th></th>\n",
       "      <th>Datetime</th>\n",
       "      <th>Text</th>\n",
       "      <th>sentiment</th>\n",
       "      <th>mentions</th>\n",
       "      <th>text</th>\n",
       "    </tr>\n",
       "  </thead>\n",
       "  <tbody>\n",
       "    <tr>\n",
       "      <th>0</th>\n",
       "      <td>2022-09-30 23:29:15+00:00</td>\n",
       "      <td>@Logitech @apple @Google @Microsoft @Dell @Len...</td>\n",
       "      <td>neutral</td>\n",
       "      <td>[@Logitech, @apple, @Google, @Microsoft, @Dell...</td>\n",
       "      <td>Logitech Apple Google Microsoft Dell Lenovo #W...</td>\n",
       "    </tr>\n",
       "    <tr>\n",
       "      <th>1</th>\n",
       "      <td>2022-09-30 21:46:35+00:00</td>\n",
       "      <td>@MK_habit_addict @official_stier @MortalKombat...</td>\n",
       "      <td>neutral</td>\n",
       "      <td>[@MK_habit_addict, @official_stier, @MortalKom...</td>\n",
       "      <td>{{MENTION}} {{MENTION}} {{MENTION}} {{MENTION}...</td>\n",
       "    </tr>\n",
       "    <tr>\n",
       "      <th>2</th>\n",
       "      <td>2022-09-30 21:18:02+00:00</td>\n",
       "      <td>As @CRN celebrates its 40th anniversary, Bob F...</td>\n",
       "      <td>positive</td>\n",
       "      <td>[@CRN, @stevenjburke, @Cisco, @Microsoft, @HPE...</td>\n",
       "      <td>As {{MENTION}} celebrates its 40th anniversary...</td>\n",
       "    </tr>\n",
       "    <tr>\n",
       "      <th>3</th>\n",
       "      <td>2022-09-30 20:05:24+00:00</td>\n",
       "      <td>@dell your customer service is horrible especi...</td>\n",
       "      <td>negative</td>\n",
       "      <td>[@dell, @DellTech]</td>\n",
       "      <td>Dell your customer service is horrible especia...</td>\n",
       "    </tr>\n",
       "    <tr>\n",
       "      <th>4</th>\n",
       "      <td>2022-09-30 20:03:17+00:00</td>\n",
       "      <td>@zacokalo @Dell @DellCares @Dell give the man ...</td>\n",
       "      <td>neutral</td>\n",
       "      <td>[@zacokalo, @Dell, @DellCares, @Dell]</td>\n",
       "      <td>{{MENTION}} Dell Dellcares Dell give the man w...</td>\n",
       "    </tr>\n",
       "  </tbody>\n",
       "</table>\n",
       "</div>"
      ],
      "text/plain": [
       "                    Datetime  \\\n",
       "0  2022-09-30 23:29:15+00:00   \n",
       "1  2022-09-30 21:46:35+00:00   \n",
       "2  2022-09-30 21:18:02+00:00   \n",
       "3  2022-09-30 20:05:24+00:00   \n",
       "4  2022-09-30 20:03:17+00:00   \n",
       "\n",
       "                                                Text sentiment  \\\n",
       "0  @Logitech @apple @Google @Microsoft @Dell @Len...   neutral   \n",
       "1  @MK_habit_addict @official_stier @MortalKombat...   neutral   \n",
       "2  As @CRN celebrates its 40th anniversary, Bob F...  positive   \n",
       "3  @dell your customer service is horrible especi...  negative   \n",
       "4  @zacokalo @Dell @DellCares @Dell give the man ...   neutral   \n",
       "\n",
       "                                            mentions  \\\n",
       "0  [@Logitech, @apple, @Google, @Microsoft, @Dell...   \n",
       "1  [@MK_habit_addict, @official_stier, @MortalKom...   \n",
       "2  [@CRN, @stevenjburke, @Cisco, @Microsoft, @HPE...   \n",
       "3                                 [@dell, @DellTech]   \n",
       "4              [@zacokalo, @Dell, @DellCares, @Dell]   \n",
       "\n",
       "                                                text  \n",
       "0  Logitech Apple Google Microsoft Dell Lenovo #W...  \n",
       "1  {{MENTION}} {{MENTION}} {{MENTION}} {{MENTION}...  \n",
       "2  As {{MENTION}} celebrates its 40th anniversary...  \n",
       "3  Dell your customer service is horrible especia...  \n",
       "4  {{MENTION}} Dell Dellcares Dell give the man w...  "
      ]
     },
     "execution_count": 56,
     "metadata": {},
     "output_type": "execute_result"
    }
   ],
   "source": [
    "# replacing urls and user mentions while keeping company mentions\n",
    "\n",
    "mentions_to_keep = [\"Dell\", \"Delltech\", \"Dellcares\", \"Dell,\", \"HP\", \"Microsoft\", \"Apple\", \"Logitech\", \"Google\", \"Lenovo\", \"Tesla\", \"Intel\", \"Alienware\", \"Emc\"]\n",
    "\n",
    "def format_tweet_new_keep(tweet):\n",
    "    if not isinstance(tweet, str):  \n",
    "        return \"\"\n",
    "\n",
    "    tokens = tweet.split()\n",
    "    tokens = [token[1:].capitalize() if token.startswith(\"@\") and token[1:].capitalize() in mentions_to_keep else token for token in tokens]\n",
    "\n",
    "    tweet = \" \".join(tokens)\n",
    "\n",
    "    urls = extractor.find_urls(tweet)\n",
    "    for url in urls:\n",
    "        tweet = tweet.replace(url, \"{{URL}}\")\n",
    "\n",
    "    tweet = re.sub(r'@\\S+', \"{{MENTION}}\", tweet)\n",
    "\n",
    "    return tweet\n",
    "\n",
    "df_dell[\"text\"] = df_dell.apply(lambda x: format_tweet_new_keep(str(x[\"Text\"])), axis=1)\n",
    "df_dell.head()"
   ]
  },
  {
   "cell_type": "code",
   "execution_count": 57,
   "metadata": {},
   "outputs": [
    {
     "data": {
      "text/html": [
       "<div>\n",
       "<style scoped>\n",
       "    .dataframe tbody tr th:only-of-type {\n",
       "        vertical-align: middle;\n",
       "    }\n",
       "\n",
       "    .dataframe tbody tr th {\n",
       "        vertical-align: top;\n",
       "    }\n",
       "\n",
       "    .dataframe thead th {\n",
       "        text-align: right;\n",
       "    }\n",
       "</style>\n",
       "<table border=\"1\" class=\"dataframe\">\n",
       "  <thead>\n",
       "    <tr style=\"text-align: right;\">\n",
       "      <th></th>\n",
       "      <th>Datetime</th>\n",
       "      <th>text</th>\n",
       "      <th>tokens</th>\n",
       "      <th>sentiment</th>\n",
       "    </tr>\n",
       "  </thead>\n",
       "  <tbody>\n",
       "    <tr>\n",
       "      <th>0</th>\n",
       "      <td>2022-09-30 23:29:15+00:00</td>\n",
       "      <td>Logitech Apple Google Microsoft Dell Lenovo #W...</td>\n",
       "      <td>[Logitech, Apple, Google, Microsoft, Dell, Len...</td>\n",
       "      <td>neutral</td>\n",
       "    </tr>\n",
       "    <tr>\n",
       "      <th>1</th>\n",
       "      <td>2022-09-30 21:46:35+00:00</td>\n",
       "      <td>{{MENTION}} {{MENTION}} {{MENTION}} {{MENTION}...</td>\n",
       "      <td>[{{MENTION}}, {{MENTION}}, {{MENTION}}, {{MENT...</td>\n",
       "      <td>neutral</td>\n",
       "    </tr>\n",
       "    <tr>\n",
       "      <th>2</th>\n",
       "      <td>2022-09-30 21:18:02+00:00</td>\n",
       "      <td>As {{MENTION}} celebrates its 40th anniversary...</td>\n",
       "      <td>[As, {{MENTION}}, celebrates, its, 40th, anniv...</td>\n",
       "      <td>positive</td>\n",
       "    </tr>\n",
       "    <tr>\n",
       "      <th>3</th>\n",
       "      <td>2022-09-30 20:05:24+00:00</td>\n",
       "      <td>Dell your customer service is horrible especia...</td>\n",
       "      <td>[Dell, your, customer, service, is, horrible, ...</td>\n",
       "      <td>negative</td>\n",
       "    </tr>\n",
       "    <tr>\n",
       "      <th>4</th>\n",
       "      <td>2022-09-30 20:03:17+00:00</td>\n",
       "      <td>{{MENTION}} Dell Dellcares Dell give the man w...</td>\n",
       "      <td>[{{MENTION}}, Dell, Dellcares, Dell, give, the...</td>\n",
       "      <td>neutral</td>\n",
       "    </tr>\n",
       "  </tbody>\n",
       "</table>\n",
       "</div>"
      ],
      "text/plain": [
       "                    Datetime  \\\n",
       "0  2022-09-30 23:29:15+00:00   \n",
       "1  2022-09-30 21:46:35+00:00   \n",
       "2  2022-09-30 21:18:02+00:00   \n",
       "3  2022-09-30 20:05:24+00:00   \n",
       "4  2022-09-30 20:03:17+00:00   \n",
       "\n",
       "                                                text  \\\n",
       "0  Logitech Apple Google Microsoft Dell Lenovo #W...   \n",
       "1  {{MENTION}} {{MENTION}} {{MENTION}} {{MENTION}...   \n",
       "2  As {{MENTION}} celebrates its 40th anniversary...   \n",
       "3  Dell your customer service is horrible especia...   \n",
       "4  {{MENTION}} Dell Dellcares Dell give the man w...   \n",
       "\n",
       "                                              tokens sentiment  \n",
       "0  [Logitech, Apple, Google, Microsoft, Dell, Len...   neutral  \n",
       "1  [{{MENTION}}, {{MENTION}}, {{MENTION}}, {{MENT...   neutral  \n",
       "2  [As, {{MENTION}}, celebrates, its, 40th, anniv...  positive  \n",
       "3  [Dell, your, customer, service, is, horrible, ...  negative  \n",
       "4  [{{MENTION}}, Dell, Dellcares, Dell, give, the...   neutral  "
      ]
     },
     "execution_count": 57,
     "metadata": {},
     "output_type": "execute_result"
    }
   ],
   "source": [
    "df_dell[\"tokens\"] = df_dell[\"text\"].apply(lambda x: x.split())\n",
    "df_dell = df_dell[[\"Datetime\", \"text\", \"tokens\", \"sentiment\"]]\n",
    "df_dell.head()"
   ]
  },
  {
   "cell_type": "code",
   "execution_count": 58,
   "metadata": {},
   "outputs": [],
   "source": [
    "df_dell.to_json(\"./SA_data/sentiment_dell_processed.json\", orient=\"records\")"
   ]
  },
  {
   "cell_type": "markdown",
   "metadata": {},
   "source": [
    "## Creating a corpus from multiple Sentiment-datasets"
   ]
  },
  {
   "cell_type": "code",
   "execution_count": 59,
   "metadata": {},
   "outputs": [
    {
     "data": {
      "text/html": [
       "<div>\n",
       "<style scoped>\n",
       "    .dataframe tbody tr th:only-of-type {\n",
       "        vertical-align: middle;\n",
       "    }\n",
       "\n",
       "    .dataframe tbody tr th {\n",
       "        vertical-align: top;\n",
       "    }\n",
       "\n",
       "    .dataframe thead th {\n",
       "        text-align: right;\n",
       "    }\n",
       "</style>\n",
       "<table border=\"1\" class=\"dataframe\">\n",
       "  <thead>\n",
       "    <tr style=\"text-align: right;\">\n",
       "      <th></th>\n",
       "      <th>text</th>\n",
       "      <th>labels</th>\n",
       "    </tr>\n",
       "  </thead>\n",
       "  <tbody>\n",
       "    <tr>\n",
       "      <th>0</th>\n",
       "      <td>@shortword @teslaownersirl @elonmusk 226 x #te...</td>\n",
       "      <td>1</td>\n",
       "    </tr>\n",
       "    <tr>\n",
       "      <th>1</th>\n",
       "      <td>“@JetBlue: Our fleet's on fleek. http://t.co/m...</td>\n",
       "      <td>1</td>\n",
       "    </tr>\n",
       "    <tr>\n",
       "      <th>2</th>\n",
       "      <td>So many kitchen blenders are missing dick.  #T...</td>\n",
       "      <td>0</td>\n",
       "    </tr>\n",
       "    <tr>\n",
       "      <th>3</th>\n",
       "      <td>#tesla. Not too rare anymore. https://t.co/rmR...</td>\n",
       "      <td>1</td>\n",
       "    </tr>\n",
       "    <tr>\n",
       "      <th>4</th>\n",
       "      <td>iPhone users at #SXSW - any of you have your G...</td>\n",
       "      <td>0</td>\n",
       "    </tr>\n",
       "  </tbody>\n",
       "</table>\n",
       "</div>"
      ],
      "text/plain": [
       "                                                text  labels\n",
       "0  @shortword @teslaownersirl @elonmusk 226 x #te...       1\n",
       "1  “@JetBlue: Our fleet's on fleek. http://t.co/m...       1\n",
       "2  So many kitchen blenders are missing dick.  #T...       0\n",
       "3  #tesla. Not too rare anymore. https://t.co/rmR...       1\n",
       "4  iPhone users at #SXSW - any of you have your G...       0"
      ]
     },
     "execution_count": 59,
     "metadata": {},
     "output_type": "execute_result"
    }
   ],
   "source": [
    "# Tweets Big Tech, Brand Sentiment Analysis data and US Airline Sentiment all combined\n",
    "df_sa_corpus = pd.concat([df_tweets_bigtech_sample, df_brd_sa_sample, df_airline_sample], ignore_index=True).sample(frac=1, random_state=42).reset_index()\n",
    "df_sa_corpus = df_sa_corpus[[\"text\", \"labels\"]]\n",
    "df_sa_corpus.head()"
   ]
  },
  {
   "cell_type": "code",
   "execution_count": 60,
   "metadata": {},
   "outputs": [
    {
     "name": "stdout",
     "output_type": "stream",
     "text": [
      "20602\n",
      "19915\n"
     ]
    }
   ],
   "source": [
    "print(len(df_sa_corpus))\n",
    "df_sa_corpus.dropna(inplace=True)\n",
    "df_sa_corpus.drop_duplicates(inplace=True)\n",
    "print(len(df_sa_corpus))"
   ]
  },
  {
   "cell_type": "code",
   "execution_count": 61,
   "metadata": {},
   "outputs": [
    {
     "data": {
      "text/plain": [
       "labels\n",
       "2    6684\n",
       "1    6655\n",
       "0    6576\n",
       "Name: count, dtype: int64"
      ]
     },
     "execution_count": 61,
     "metadata": {},
     "output_type": "execute_result"
    }
   ],
   "source": [
    "df_sa_corpus[\"labels\"].value_counts()"
   ]
  },
  {
   "cell_type": "code",
   "execution_count": 62,
   "metadata": {},
   "outputs": [
    {
     "data": {
      "text/html": [
       "<div>\n",
       "<style scoped>\n",
       "    .dataframe tbody tr th:only-of-type {\n",
       "        vertical-align: middle;\n",
       "    }\n",
       "\n",
       "    .dataframe tbody tr th {\n",
       "        vertical-align: top;\n",
       "    }\n",
       "\n",
       "    .dataframe thead th {\n",
       "        text-align: right;\n",
       "    }\n",
       "</style>\n",
       "<table border=\"1\" class=\"dataframe\">\n",
       "  <thead>\n",
       "    <tr style=\"text-align: right;\">\n",
       "      <th></th>\n",
       "      <th>text</th>\n",
       "      <th>labels</th>\n",
       "    </tr>\n",
       "  </thead>\n",
       "  <tbody>\n",
       "    <tr>\n",
       "      <th>0</th>\n",
       "      <td>{{MENTION}} {{MENTION}} {{MENTION}} 226 x #tes...</td>\n",
       "      <td>1</td>\n",
       "    </tr>\n",
       "    <tr>\n",
       "      <th>1</th>\n",
       "      <td>{{MENTION}} Our fleet's on fleek. {{URL}} LMFA...</td>\n",
       "      <td>1</td>\n",
       "    </tr>\n",
       "    <tr>\n",
       "      <th>2</th>\n",
       "      <td>So many kitchen blenders are missing dick.  #T...</td>\n",
       "      <td>0</td>\n",
       "    </tr>\n",
       "    <tr>\n",
       "      <th>3</th>\n",
       "      <td>#tesla. Not too rare anymore. {{URL}}</td>\n",
       "      <td>1</td>\n",
       "    </tr>\n",
       "    <tr>\n",
       "      <th>4</th>\n",
       "      <td>iPhone users at #SXSW - any of you have your G...</td>\n",
       "      <td>0</td>\n",
       "    </tr>\n",
       "  </tbody>\n",
       "</table>\n",
       "</div>"
      ],
      "text/plain": [
       "                                                text  labels\n",
       "0  {{MENTION}} {{MENTION}} {{MENTION}} 226 x #tes...       1\n",
       "1  {{MENTION}} Our fleet's on fleek. {{URL}} LMFA...       1\n",
       "2  So many kitchen blenders are missing dick.  #T...       0\n",
       "3              #tesla. Not too rare anymore. {{URL}}       1\n",
       "4  iPhone users at #SXSW - any of you have your G...       0"
      ]
     },
     "execution_count": 62,
     "metadata": {},
     "output_type": "execute_result"
    }
   ],
   "source": [
    "# replacing urls and user mentions \n",
    "def format_tweet_new(tweet):\n",
    "    # mask web urls\n",
    "    urls = extractor.find_urls(tweet)\n",
    "    for url in urls:\n",
    "        tweet = tweet.replace(url, \"{{URL}}\")\n",
    "    # format twitter account\n",
    "    # recognizes tokens including @ at any place\n",
    "    tweet = re.sub(r'\\S*@\\S*', \"{{MENTION}}\", tweet)    \n",
    "    return tweet\n",
    "\n",
    "df_sa_corpus[\"text\"] = df_sa_corpus.apply(lambda x: format_tweet_new(str(x[\"text\"])), axis=1)\n",
    "df_sa_corpus.head()"
   ]
  },
  {
   "cell_type": "code",
   "execution_count": 63,
   "metadata": {},
   "outputs": [],
   "source": [
    "df_sa_corpus.to_json(\"./SA_data/sentiment_corpus.json\", orient=\"records\")"
   ]
  },
  {
   "cell_type": "markdown",
   "metadata": {},
   "source": [
    "# Data Analysis and Processing for NER"
   ]
  },
  {
   "cell_type": "markdown",
   "metadata": {},
   "source": [
    "## WNUT"
   ]
  },
  {
   "cell_type": "code",
   "execution_count": 64,
   "metadata": {},
   "outputs": [],
   "source": [
    "# dataset WNUT 2016\n",
    "# data from https://autonlp.ai/datasets/wnut-2016\n",
    "import pandas as pd\n",
    "wnut_2016_train = pd.read_csv(\"./NER_data/WNUT 2016 train.txt\", sep=\"\\t\", header=None, names=[\"words\", \"labels\"], skip_blank_lines=False)\n",
    "wnut_2016_test = pd.read_csv(\"./NER_data/WNUT 2016 test.txt\", sep=\"\\t\", header=None, names=[\"words\", \"labels\"], skip_blank_lines=False)"
   ]
  },
  {
   "cell_type": "code",
   "execution_count": 65,
   "metadata": {},
   "outputs": [
    {
     "data": {
      "text/html": [
       "<div>\n",
       "<style scoped>\n",
       "    .dataframe tbody tr th:only-of-type {\n",
       "        vertical-align: middle;\n",
       "    }\n",
       "\n",
       "    .dataframe tbody tr th {\n",
       "        vertical-align: top;\n",
       "    }\n",
       "\n",
       "    .dataframe thead th {\n",
       "        text-align: right;\n",
       "    }\n",
       "</style>\n",
       "<table border=\"1\" class=\"dataframe\">\n",
       "  <thead>\n",
       "    <tr style=\"text-align: right;\">\n",
       "      <th></th>\n",
       "      <th>words</th>\n",
       "      <th>labels</th>\n",
       "    </tr>\n",
       "  </thead>\n",
       "  <tbody>\n",
       "    <tr>\n",
       "      <th>0</th>\n",
       "      <td>@SammieLynnsMom</td>\n",
       "      <td>O</td>\n",
       "    </tr>\n",
       "    <tr>\n",
       "      <th>1</th>\n",
       "      <td>@tg10781</td>\n",
       "      <td>O</td>\n",
       "    </tr>\n",
       "    <tr>\n",
       "      <th>2</th>\n",
       "      <td>they</td>\n",
       "      <td>O</td>\n",
       "    </tr>\n",
       "    <tr>\n",
       "      <th>3</th>\n",
       "      <td>will</td>\n",
       "      <td>O</td>\n",
       "    </tr>\n",
       "    <tr>\n",
       "      <th>4</th>\n",
       "      <td>be</td>\n",
       "      <td>O</td>\n",
       "    </tr>\n",
       "  </tbody>\n",
       "</table>\n",
       "</div>"
      ],
      "text/plain": [
       "             words labels\n",
       "0  @SammieLynnsMom      O\n",
       "1         @tg10781      O\n",
       "2             they      O\n",
       "3             will      O\n",
       "4               be      O"
      ]
     },
     "execution_count": 65,
     "metadata": {},
     "output_type": "execute_result"
    }
   ],
   "source": [
    "wnut_2016 = pd.concat([wnut_2016_train, wnut_2016_test], axis=0)\n",
    "wnut_2016.head()"
   ]
  },
  {
   "cell_type": "code",
   "execution_count": 66,
   "metadata": {},
   "outputs": [
    {
     "data": {
      "text/html": [
       "<div>\n",
       "<style scoped>\n",
       "    .dataframe tbody tr th:only-of-type {\n",
       "        vertical-align: middle;\n",
       "    }\n",
       "\n",
       "    .dataframe tbody tr th {\n",
       "        vertical-align: top;\n",
       "    }\n",
       "\n",
       "    .dataframe thead th {\n",
       "        text-align: right;\n",
       "    }\n",
       "</style>\n",
       "<table border=\"1\" class=\"dataframe\">\n",
       "  <thead>\n",
       "    <tr style=\"text-align: right;\">\n",
       "      <th></th>\n",
       "      <th>words</th>\n",
       "      <th>labels</th>\n",
       "      <th>sentence_id</th>\n",
       "    </tr>\n",
       "  </thead>\n",
       "  <tbody>\n",
       "    <tr>\n",
       "      <th>0</th>\n",
       "      <td>@SammieLynnsMom</td>\n",
       "      <td>O</td>\n",
       "      <td>0</td>\n",
       "    </tr>\n",
       "    <tr>\n",
       "      <th>1</th>\n",
       "      <td>@tg10781</td>\n",
       "      <td>O</td>\n",
       "      <td>0</td>\n",
       "    </tr>\n",
       "    <tr>\n",
       "      <th>2</th>\n",
       "      <td>they</td>\n",
       "      <td>O</td>\n",
       "      <td>0</td>\n",
       "    </tr>\n",
       "    <tr>\n",
       "      <th>3</th>\n",
       "      <td>will</td>\n",
       "      <td>O</td>\n",
       "      <td>0</td>\n",
       "    </tr>\n",
       "    <tr>\n",
       "      <th>4</th>\n",
       "      <td>be</td>\n",
       "      <td>O</td>\n",
       "      <td>0</td>\n",
       "    </tr>\n",
       "    <tr>\n",
       "      <th>5</th>\n",
       "      <td>all</td>\n",
       "      <td>O</td>\n",
       "      <td>0</td>\n",
       "    </tr>\n",
       "    <tr>\n",
       "      <th>6</th>\n",
       "      <td>done</td>\n",
       "      <td>O</td>\n",
       "      <td>0</td>\n",
       "    </tr>\n",
       "    <tr>\n",
       "      <th>7</th>\n",
       "      <td>by</td>\n",
       "      <td>O</td>\n",
       "      <td>0</td>\n",
       "    </tr>\n",
       "    <tr>\n",
       "      <th>8</th>\n",
       "      <td>Sunday</td>\n",
       "      <td>O</td>\n",
       "      <td>0</td>\n",
       "    </tr>\n",
       "    <tr>\n",
       "      <th>9</th>\n",
       "      <td>trust</td>\n",
       "      <td>O</td>\n",
       "      <td>0</td>\n",
       "    </tr>\n",
       "  </tbody>\n",
       "</table>\n",
       "</div>"
      ],
      "text/plain": [
       "             words labels  sentence_id\n",
       "0  @SammieLynnsMom      O            0\n",
       "1         @tg10781      O            0\n",
       "2             they      O            0\n",
       "3             will      O            0\n",
       "4               be      O            0\n",
       "5              all      O            0\n",
       "6             done      O            0\n",
       "7               by      O            0\n",
       "8           Sunday      O            0\n",
       "9            trust      O            0"
      ]
     },
     "execution_count": 66,
     "metadata": {},
     "output_type": "execute_result"
    }
   ],
   "source": [
    "wnut_2016[\"sentence_id\"] = (pd.isna(wnut_2016.words)).cumsum()\n",
    "wnut_2016.head(10)"
   ]
  },
  {
   "cell_type": "code",
   "execution_count": 67,
   "metadata": {},
   "outputs": [],
   "source": [
    "wnut_2016.dropna(inplace=True)"
   ]
  },
  {
   "cell_type": "code",
   "execution_count": 68,
   "metadata": {},
   "outputs": [
    {
     "name": "stdout",
     "output_type": "stream",
     "text": [
      "Rows with mismatched lengths: 0\n"
     ]
    }
   ],
   "source": [
    "# reworked version to fix list mismatches between columns\n",
    "grouped_data = wnut_2016.groupby(\"sentence_id\").agg({\n",
    "    \"words\": list,  \"labels\": list}).reset_index()\n",
    "\n",
    "grouped_data.rename(columns={\"words\": \"tokens\", \"labels\": \"label_list\"}, inplace=True)\n",
    "\n",
    "wnut_2016_final = grouped_data[[\"tokens\", \"label_list\"]]\n",
    "\n",
    "wnut_2016_final[\"tokens_len\"] = wnut_2016_final[\"tokens\"].apply(len)\n",
    "wnut_2016_final[\"labels_len\"] = wnut_2016_final[\"label_list\"].apply(len)\n",
    "mismatched = wnut_2016_final[wnut_2016_final[\"tokens_len\"] != wnut_2016_final[\"labels_len\"]]\n",
    "\n",
    "print(f\"Rows with mismatched lengths: {len(mismatched)}\")"
   ]
  },
  {
   "cell_type": "code",
   "execution_count": 69,
   "metadata": {},
   "outputs": [
    {
     "data": {
      "text/plain": [
       "5061"
      ]
     },
     "execution_count": 69,
     "metadata": {},
     "output_type": "execute_result"
    }
   ],
   "source": [
    "len(wnut_2016_final)"
   ]
  },
  {
   "cell_type": "code",
   "execution_count": 70,
   "metadata": {},
   "outputs": [],
   "source": [
    "# loading WNUT 2017 dataset\n",
    "# https://github.com/juand-r/entity-recognition-datasets/blob/master/data/WNUT17/CONLL-format/data/train/wnut17train.conll\n",
    "\n",
    "# function for creating a clean df from .conll-file\n",
    "def read_conll(filename):\n",
    "    df = pd.read_csv(filename,\n",
    "                    sep = \"\\t\", header = None, keep_default_na = False,\n",
    "                    names = [\"words\", \"labels\", \"chunk\", \"ne\"],\n",
    "                    quoting = 3, skip_blank_lines = False)\n",
    "    df[\"sentence_id\"] = (df.words == '').cumsum()\n",
    "    return df[df.words != '']\n",
    "\n",
    "wnut_2017_train = read_conll(\"./NER_data/wnut17train.conll\")\n",
    "wnut_2017_test = read_conll(\"./NER_data/wnut17test.conll\")"
   ]
  },
  {
   "cell_type": "code",
   "execution_count": 71,
   "metadata": {},
   "outputs": [
    {
     "data": {
      "text/html": [
       "<div>\n",
       "<style scoped>\n",
       "    .dataframe tbody tr th:only-of-type {\n",
       "        vertical-align: middle;\n",
       "    }\n",
       "\n",
       "    .dataframe tbody tr th {\n",
       "        vertical-align: top;\n",
       "    }\n",
       "\n",
       "    .dataframe thead th {\n",
       "        text-align: right;\n",
       "    }\n",
       "</style>\n",
       "<table border=\"1\" class=\"dataframe\">\n",
       "  <thead>\n",
       "    <tr style=\"text-align: right;\">\n",
       "      <th></th>\n",
       "      <th>words</th>\n",
       "      <th>labels</th>\n",
       "      <th>sentence_id</th>\n",
       "    </tr>\n",
       "  </thead>\n",
       "  <tbody>\n",
       "    <tr>\n",
       "      <th>0</th>\n",
       "      <td>@paulwalk</td>\n",
       "      <td>O</td>\n",
       "      <td>0</td>\n",
       "    </tr>\n",
       "    <tr>\n",
       "      <th>1</th>\n",
       "      <td>It</td>\n",
       "      <td>O</td>\n",
       "      <td>0</td>\n",
       "    </tr>\n",
       "    <tr>\n",
       "      <th>2</th>\n",
       "      <td>'s</td>\n",
       "      <td>O</td>\n",
       "      <td>0</td>\n",
       "    </tr>\n",
       "    <tr>\n",
       "      <th>3</th>\n",
       "      <td>the</td>\n",
       "      <td>O</td>\n",
       "      <td>0</td>\n",
       "    </tr>\n",
       "    <tr>\n",
       "      <th>4</th>\n",
       "      <td>view</td>\n",
       "      <td>O</td>\n",
       "      <td>0</td>\n",
       "    </tr>\n",
       "  </tbody>\n",
       "</table>\n",
       "</div>"
      ],
      "text/plain": [
       "       words labels  sentence_id\n",
       "0  @paulwalk      O            0\n",
       "1         It      O            0\n",
       "2         's      O            0\n",
       "3        the      O            0\n",
       "4       view      O            0"
      ]
     },
     "execution_count": 71,
     "metadata": {},
     "output_type": "execute_result"
    }
   ],
   "source": [
    "wnut_2017 = pd.concat([wnut_2017_train, wnut_2017_test], axis=0)\n",
    "wnut_2017 = wnut_2017[[\"words\", \"labels\", \"sentence_id\"]]\n",
    "wnut_2017.head()"
   ]
  },
  {
   "cell_type": "code",
   "execution_count": 72,
   "metadata": {},
   "outputs": [
    {
     "name": "stdout",
     "output_type": "stream",
     "text": [
      "Rows with mismatched lengths: 0\n"
     ]
    }
   ],
   "source": [
    "# reworked version to fix list mismatches between columns\n",
    "grouped_data = wnut_2017.groupby(\"sentence_id\").agg({\n",
    "    \"words\": list,  \n",
    "    \"labels\": list \n",
    "}).reset_index()\n",
    "\n",
    "grouped_data.rename(columns={\"words\": \"tokens\", \"labels\": \"label_list\"}, inplace=True)\n",
    "\n",
    "wnut_2017_final = grouped_data[[\"tokens\", \"label_list\"]]\n",
    "\n",
    "# checking if there are mismatches in list length\n",
    "wnut_2017_final[\"tokens_len\"] = wnut_2017_final[\"tokens\"].apply(len)\n",
    "wnut_2017_final[\"labels_len\"] = wnut_2017_final[\"label_list\"].apply(len)\n",
    "mismatched = wnut_2017_final[wnut_2017_final[\"tokens_len\"] != wnut_2017_final[\"labels_len\"]]\n",
    "print(f\"Rows with mismatched lengths: {len(mismatched)}\")"
   ]
  },
  {
   "cell_type": "code",
   "execution_count": 73,
   "metadata": {},
   "outputs": [
    {
     "data": {
      "text/plain": [
       "3394"
      ]
     },
     "execution_count": 73,
     "metadata": {},
     "output_type": "execute_result"
    }
   ],
   "source": [
    "len(wnut_2017_final)"
   ]
  },
  {
   "cell_type": "code",
   "execution_count": 74,
   "metadata": {},
   "outputs": [
    {
     "data": {
      "text/plain": [
       "label_list\n",
       "O                  81224\n",
       "B-person            1089\n",
       "B-location           698\n",
       "I-person             466\n",
       "B-group              429\n",
       "I-creative-work      424\n",
       "I-location           339\n",
       "I-product            329\n",
       "B-corporation        287\n",
       "B-creative-work      282\n",
       "B-product            269\n",
       "I-group              220\n",
       "I-corporation         68\n",
       "Name: count, dtype: int64"
      ]
     },
     "execution_count": 74,
     "metadata": {},
     "output_type": "execute_result"
    }
   ],
   "source": [
    "wnut_2017_final[\"label_list\"].explode().value_counts()"
   ]
  },
  {
   "cell_type": "code",
   "execution_count": 75,
   "metadata": {},
   "outputs": [
    {
     "data": {
      "text/plain": [
       "8455"
      ]
     },
     "execution_count": 75,
     "metadata": {},
     "output_type": "execute_result"
    }
   ],
   "source": [
    "wnut_complete = pd.concat([wnut_2016_final, wnut_2017_final])\n",
    "len(wnut_complete)"
   ]
  },
  {
   "cell_type": "code",
   "execution_count": null,
   "metadata": {},
   "outputs": [
    {
     "name": "stdout",
     "output_type": "stream",
     "text": [
      "Percentange of labels that are O: 0.9331779737163991\n"
     ]
    }
   ],
   "source": [
    "# ratio of tokens labeled as \"Outside\" in unaltered, complete WNUT-dataset\n",
    "all_wnut_labels = wnut_complete[\"label_list\"].explode().tolist()\n",
    "outside_wnut = all_wnut_labels.count(\"O\")\n",
    "print(f\"Percentange of labels that are O: {outside_wnut/len(all_wnut_labels)}\")"
   ]
  },
  {
   "cell_type": "code",
   "execution_count": 77,
   "metadata": {},
   "outputs": [
    {
     "data": {
      "text/plain": [
       "label_list\n",
       "O                  160976\n",
       "B-person             1815\n",
       "B-geo-loc             933\n",
       "I-person              868\n",
       "I-product             786\n",
       "B-location            698\n",
       "I-other               663\n",
       "B-company             651\n",
       "B-other               626\n",
       "B-product             534\n",
       "B-group               429\n",
       "I-creative-work       424\n",
       "I-facility            367\n",
       "I-location            339\n",
       "B-corporation         287\n",
       "B-creative-work       282\n",
       "B-facility            280\n",
       "I-company             242\n",
       "I-group               220\n",
       "I-geo-loc             215\n",
       "B-musicartist         194\n",
       "I-musicartist         162\n",
       "B-sportsteam          149\n",
       "I-movie                72\n",
       "I-corporation          68\n",
       "I-tvshow               59\n",
       "B-tvshow               57\n",
       "B-movie                54\n",
       "I-sportsteam           53\n",
       "Name: count, dtype: int64"
      ]
     },
     "execution_count": 77,
     "metadata": {},
     "output_type": "execute_result"
    }
   ],
   "source": [
    "wnut_complete[\"label_list\"].explode().value_counts()"
   ]
  },
  {
   "cell_type": "code",
   "execution_count": 78,
   "metadata": {},
   "outputs": [],
   "source": [
    "# changing \"company\"-tag to \"corporation\" to match TweetNER\n",
    "wnut_complete[\"label_list\"] = wnut_complete[\"label_list\"].apply(\n",
    "    lambda x: [item.replace(\"B-company\", \"B-corporation\") if isinstance(item, str) else item for item in x]\n",
    ")\n",
    "wnut_complete[\"label_list\"] = wnut_complete[\"label_list\"].apply(\n",
    "    lambda x: [item.replace(\"I-company\", \"I-corporation\") if isinstance(item, str) else item for item in x]\n",
    ")\n",
    "\n",
    "#changing \"geo-loc\"-tag to \"location to match\"\n",
    "wnut_complete[\"label_list\"] = wnut_complete[\"label_list\"].apply(\n",
    "    lambda x: [item.replace(\"B-geo-loc\", \"B-location\") if isinstance(item, str) else item for item in x]\n",
    ")\n",
    "wnut_complete[\"label_list\"] = wnut_complete[\"label_list\"].apply(\n",
    "    lambda x: [item.replace(\"I-geo-loc\", \"I-location\") if isinstance(item, str) else item for item in x]\n",
    ")"
   ]
  },
  {
   "cell_type": "code",
   "execution_count": 79,
   "metadata": {},
   "outputs": [
    {
     "data": {
      "text/plain": [
       "label_list\n",
       "O                  160976\n",
       "B-person             1815\n",
       "B-location           1631\n",
       "B-corporation         938\n",
       "I-person              868\n",
       "I-product             786\n",
       "I-other               663\n",
       "B-other               626\n",
       "I-location            554\n",
       "B-product             534\n",
       "B-group               429\n",
       "I-creative-work       424\n",
       "I-facility            367\n",
       "I-corporation         310\n",
       "B-creative-work       282\n",
       "B-facility            280\n",
       "I-group               220\n",
       "B-musicartist         194\n",
       "I-musicartist         162\n",
       "B-sportsteam          149\n",
       "I-movie                72\n",
       "I-tvshow               59\n",
       "B-tvshow               57\n",
       "B-movie                54\n",
       "I-sportsteam           53\n",
       "Name: count, dtype: int64"
      ]
     },
     "execution_count": 79,
     "metadata": {},
     "output_type": "execute_result"
    }
   ],
   "source": [
    "wnut_complete[\"label_list\"].explode().value_counts()"
   ]
  },
  {
   "cell_type": "code",
   "execution_count": 80,
   "metadata": {},
   "outputs": [
    {
     "data": {
      "text/plain": [
       "8455"
      ]
     },
     "execution_count": 80,
     "metadata": {},
     "output_type": "execute_result"
    }
   ],
   "source": [
    "len(wnut_complete)"
   ]
  },
  {
   "cell_type": "code",
   "execution_count": 81,
   "metadata": {},
   "outputs": [
    {
     "data": {
      "text/html": [
       "<div>\n",
       "<style scoped>\n",
       "    .dataframe tbody tr th:only-of-type {\n",
       "        vertical-align: middle;\n",
       "    }\n",
       "\n",
       "    .dataframe tbody tr th {\n",
       "        vertical-align: top;\n",
       "    }\n",
       "\n",
       "    .dataframe thead th {\n",
       "        text-align: right;\n",
       "    }\n",
       "</style>\n",
       "<table border=\"1\" class=\"dataframe\">\n",
       "  <thead>\n",
       "    <tr style=\"text-align: right;\">\n",
       "      <th></th>\n",
       "      <th>tokens</th>\n",
       "      <th>label_list</th>\n",
       "      <th>tokens_len</th>\n",
       "      <th>labels_len</th>\n",
       "    </tr>\n",
       "  </thead>\n",
       "  <tbody>\n",
       "    <tr>\n",
       "      <th>0</th>\n",
       "      <td>[@SammieLynnsMom, @tg10781, they, will, be, al...</td>\n",
       "      <td>[O, O, O, O, O, O, O, O, O, O, O, O]</td>\n",
       "      <td>12</td>\n",
       "      <td>12</td>\n",
       "    </tr>\n",
       "    <tr>\n",
       "      <th>1</th>\n",
       "      <td>[Made, it, back, home, to, GA, ., It, sucks, n...</td>\n",
       "      <td>[O, O, O, O, O, B-location, O, O, O, O, O, O, ...</td>\n",
       "      <td>33</td>\n",
       "      <td>33</td>\n",
       "    </tr>\n",
       "    <tr>\n",
       "      <th>2</th>\n",
       "      <td>[', Breaking, Dawn, ', Returns, to, Vancouver,...</td>\n",
       "      <td>[O, B-movie, I-movie, O, O, O, B-location, O, ...</td>\n",
       "      <td>11</td>\n",
       "      <td>11</td>\n",
       "    </tr>\n",
       "    <tr>\n",
       "      <th>3</th>\n",
       "      <td>[@ls_n, perhaps, ,, but, folks, may, find, som...</td>\n",
       "      <td>[O, O, O, O, O, O, O, O, O, O, O, O, O, O, O, ...</td>\n",
       "      <td>27</td>\n",
       "      <td>27</td>\n",
       "    </tr>\n",
       "    <tr>\n",
       "      <th>4</th>\n",
       "      <td>[@Carr0t, aye, been, tonight, -, excellent]</td>\n",
       "      <td>[O, O, O, O, O, O]</td>\n",
       "      <td>6</td>\n",
       "      <td>6</td>\n",
       "    </tr>\n",
       "  </tbody>\n",
       "</table>\n",
       "</div>"
      ],
      "text/plain": [
       "                                              tokens  \\\n",
       "0  [@SammieLynnsMom, @tg10781, they, will, be, al...   \n",
       "1  [Made, it, back, home, to, GA, ., It, sucks, n...   \n",
       "2  [', Breaking, Dawn, ', Returns, to, Vancouver,...   \n",
       "3  [@ls_n, perhaps, ,, but, folks, may, find, som...   \n",
       "4        [@Carr0t, aye, been, tonight, -, excellent]   \n",
       "\n",
       "                                          label_list  tokens_len  labels_len  \n",
       "0               [O, O, O, O, O, O, O, O, O, O, O, O]          12          12  \n",
       "1  [O, O, O, O, O, B-location, O, O, O, O, O, O, ...          33          33  \n",
       "2  [O, B-movie, I-movie, O, O, O, B-location, O, ...          11          11  \n",
       "3  [O, O, O, O, O, O, O, O, O, O, O, O, O, O, O, ...          27          27  \n",
       "4                                 [O, O, O, O, O, O]           6           6  "
      ]
     },
     "execution_count": 81,
     "metadata": {},
     "output_type": "execute_result"
    }
   ],
   "source": [
    "wnut_complete.head()"
   ]
  },
  {
   "cell_type": "code",
   "execution_count": 82,
   "metadata": {},
   "outputs": [],
   "source": [
    "def convert_unwanted_entities(label_list):\n",
    "    unwanted_entities = [\"B-musicartist\", \"I-musicartist\", \"B-movie\", \"I-movie\", \"B-sportsteam\", \"I-sportsteam\", \n",
    "                     \"B-facility\", \"I-facility\", \"B-group\", \"I-group\", \"B-creative-work\", \"I-creative-work\", \n",
    "                     \"B-creative_work\", \"I-creative_work\", \"B-tvshow\", \"I-tvshow\", \"B-other\", \"I-other\"]\n",
    "    return [\"O\" if label in unwanted_entities else label for label in label_list]\n",
    "\n",
    "wnut_complete[\"label_list\"] = wnut_complete[\"label_list\"].apply(convert_unwanted_entities)"
   ]
  },
  {
   "cell_type": "code",
   "execution_count": 83,
   "metadata": {},
   "outputs": [],
   "source": [
    "# entity-dict with only the wanted entities \n",
    "\n",
    "entity_dict = {\n",
    "    0: \"B-corporation\",\n",
    "    1: \"B-event\",\n",
    "    2: \"B-location\",\n",
    "    3: \"B-person\",\n",
    "    4: \"B-product\",\n",
    "    5: \"I-corporation\",\n",
    "    6: \"I-event\",\n",
    "    7: \"I-location\",\n",
    "    8: \"I-person\",\n",
    "    9: \"I-product\",\n",
    "    10: \"O\"\n",
    "}\n",
    "\n",
    "label_list = list(entity_dict.values())\n",
    "label_to_id = {label: i for i, label in enumerate(label_list)}\n",
    "id_to_label = {i: label for label, i in label_to_id.items()}"
   ]
  },
  {
   "cell_type": "code",
   "execution_count": null,
   "metadata": {},
   "outputs": [
    {
     "data": {
      "text/html": [
       "<div>\n",
       "<style scoped>\n",
       "    .dataframe tbody tr th:only-of-type {\n",
       "        vertical-align: middle;\n",
       "    }\n",
       "\n",
       "    .dataframe tbody tr th {\n",
       "        vertical-align: top;\n",
       "    }\n",
       "\n",
       "    .dataframe thead th {\n",
       "        text-align: right;\n",
       "    }\n",
       "</style>\n",
       "<table border=\"1\" class=\"dataframe\">\n",
       "  <thead>\n",
       "    <tr style=\"text-align: right;\">\n",
       "      <th></th>\n",
       "      <th>tokens</th>\n",
       "      <th>labels</th>\n",
       "      <th>tokens_len</th>\n",
       "      <th>labels_len</th>\n",
       "      <th>tags</th>\n",
       "    </tr>\n",
       "  </thead>\n",
       "  <tbody>\n",
       "    <tr>\n",
       "      <th>0</th>\n",
       "      <td>[@SammieLynnsMom, @tg10781, they, will, be, al...</td>\n",
       "      <td>[O, O, O, O, O, O, O, O, O, O, O, O]</td>\n",
       "      <td>12</td>\n",
       "      <td>12</td>\n",
       "      <td>[10, 10, 10, 10, 10, 10, 10, 10, 10, 10, 10, 10]</td>\n",
       "    </tr>\n",
       "    <tr>\n",
       "      <th>1</th>\n",
       "      <td>[Made, it, back, home, to, GA, ., It, sucks, n...</td>\n",
       "      <td>[O, O, O, O, O, B-location, O, O, O, O, O, O, ...</td>\n",
       "      <td>33</td>\n",
       "      <td>33</td>\n",
       "      <td>[10, 10, 10, 10, 10, 2, 10, 10, 10, 10, 10, 10...</td>\n",
       "    </tr>\n",
       "    <tr>\n",
       "      <th>2</th>\n",
       "      <td>[', Breaking, Dawn, ', Returns, to, Vancouver,...</td>\n",
       "      <td>[O, O, O, O, O, O, B-location, O, O, O, O]</td>\n",
       "      <td>11</td>\n",
       "      <td>11</td>\n",
       "      <td>[10, 10, 10, 10, 10, 10, 2, 10, 10, 10, 10]</td>\n",
       "    </tr>\n",
       "    <tr>\n",
       "      <th>3</th>\n",
       "      <td>[@ls_n, perhaps, ,, but, folks, may, find, som...</td>\n",
       "      <td>[O, O, O, O, O, O, O, O, O, O, O, O, O, O, O, ...</td>\n",
       "      <td>27</td>\n",
       "      <td>27</td>\n",
       "      <td>[10, 10, 10, 10, 10, 10, 10, 10, 10, 10, 10, 1...</td>\n",
       "    </tr>\n",
       "    <tr>\n",
       "      <th>4</th>\n",
       "      <td>[@Carr0t, aye, been, tonight, -, excellent]</td>\n",
       "      <td>[O, O, O, O, O, O]</td>\n",
       "      <td>6</td>\n",
       "      <td>6</td>\n",
       "      <td>[10, 10, 10, 10, 10, 10]</td>\n",
       "    </tr>\n",
       "  </tbody>\n",
       "</table>\n",
       "</div>"
      ],
      "text/plain": [
       "                                              tokens  \\\n",
       "0  [@SammieLynnsMom, @tg10781, they, will, be, al...   \n",
       "1  [Made, it, back, home, to, GA, ., It, sucks, n...   \n",
       "2  [', Breaking, Dawn, ', Returns, to, Vancouver,...   \n",
       "3  [@ls_n, perhaps, ,, but, folks, may, find, som...   \n",
       "4        [@Carr0t, aye, been, tonight, -, excellent]   \n",
       "\n",
       "                                              labels  tokens_len  labels_len  \\\n",
       "0               [O, O, O, O, O, O, O, O, O, O, O, O]          12          12   \n",
       "1  [O, O, O, O, O, B-location, O, O, O, O, O, O, ...          33          33   \n",
       "2         [O, O, O, O, O, O, B-location, O, O, O, O]          11          11   \n",
       "3  [O, O, O, O, O, O, O, O, O, O, O, O, O, O, O, ...          27          27   \n",
       "4                                 [O, O, O, O, O, O]           6           6   \n",
       "\n",
       "                                                tags  \n",
       "0   [10, 10, 10, 10, 10, 10, 10, 10, 10, 10, 10, 10]  \n",
       "1  [10, 10, 10, 10, 10, 2, 10, 10, 10, 10, 10, 10...  \n",
       "2        [10, 10, 10, 10, 10, 10, 2, 10, 10, 10, 10]  \n",
       "3  [10, 10, 10, 10, 10, 10, 10, 10, 10, 10, 10, 1...  \n",
       "4                           [10, 10, 10, 10, 10, 10]  "
      ]
     },
     "execution_count": 84,
     "metadata": {},
     "output_type": "execute_result"
    }
   ],
   "source": [
    "# adding tag-column from label-column with self-defined tags\n",
    "wnut_complete[\"tags\"] = wnut_complete[\"label_list\"].apply(lambda x: [label_to_id[i] for i in x])\n",
    "wnut_complete.rename(columns={\"label_list\" : \"labels\"}, inplace=True)\n",
    "wnut_complete = wnut_complete[[\"tokens\", \"labels\", \"tags\"]]\n",
    "wnut_complete.head()"
   ]
  },
  {
   "cell_type": "code",
   "execution_count": 85,
   "metadata": {},
   "outputs": [],
   "source": [
    "# saving processed data as csv\n",
    "wnut_complete.to_csv(\"./NER_data/wnut_complete_processed.csv\", index=False)"
   ]
  },
  {
   "cell_type": "markdown",
   "metadata": {},
   "source": [
    "## TweetNER7"
   ]
  },
  {
   "cell_type": "code",
   "execution_count": 86,
   "metadata": {},
   "outputs": [
    {
     "name": "stderr",
     "output_type": "stream",
     "text": [
      "Using the latest cached version of the dataset since tner/tweetner7 couldn't be found on the Hugging Face Hub\n",
      "Found the latest cached dataset configuration 'tweetner7' at C:\\Users\\hausb\\.cache\\huggingface\\datasets\\tner___tweetner7\\tweetner7\\1.0.4\\9d9c27f1d4fb18a02e0d8283bac6ebb01c56c458 (last modified on Thu Sep 19 14:45:36 2024).\n"
     ]
    }
   ],
   "source": [
    "# loading tweetner17 dataset from huggingface \n",
    "# https://huggingface.co/datasets/tner/tweetner7\n",
    "from datasets import load_dataset\n",
    "\n",
    "ds = load_dataset(\"tner/tweetner7\")"
   ]
  },
  {
   "cell_type": "code",
   "execution_count": 87,
   "metadata": {},
   "outputs": [],
   "source": [
    "tweetner7_train = ds[\"train_all\"].to_pandas()\n",
    "tweetner7_test21 = ds[\"test_2021\"].to_pandas()\n",
    "tweetner7_test20 = ds[\"test_2020\"].to_pandas()\n",
    "tweetner7_val20 = ds[\"validation_2020\"].to_pandas()\n",
    "tweetner7_val21 = ds[\"validation_2021\"].to_pandas()\n",
    "tweetner7_train.dropna(inplace=True)\n",
    "tweetner7_test21.dropna(inplace=True)\n",
    "tweetner7_test20.dropna(inplace=True)\n",
    "tweetner7_val20.dropna(inplace=True)\n",
    "tweetner7_val21.dropna(inplace=True)"
   ]
  },
  {
   "cell_type": "code",
   "execution_count": 88,
   "metadata": {},
   "outputs": [
    {
     "data": {
      "text/html": [
       "<div>\n",
       "<style scoped>\n",
       "    .dataframe tbody tr th:only-of-type {\n",
       "        vertical-align: middle;\n",
       "    }\n",
       "\n",
       "    .dataframe tbody tr th {\n",
       "        vertical-align: top;\n",
       "    }\n",
       "\n",
       "    .dataframe thead th {\n",
       "        text-align: right;\n",
       "    }\n",
       "</style>\n",
       "<table border=\"1\" class=\"dataframe\">\n",
       "  <thead>\n",
       "    <tr style=\"text-align: right;\">\n",
       "      <th></th>\n",
       "      <th>tokens</th>\n",
       "      <th>tags</th>\n",
       "    </tr>\n",
       "  </thead>\n",
       "  <tbody>\n",
       "    <tr>\n",
       "      <th>0</th>\n",
       "      <td>[Morning, 5km, run, with, {{USERNAME}}, for, b...</td>\n",
       "      <td>[14, 14, 14, 14, 14, 14, 14, 14, 14, 14, 2, 14...</td>\n",
       "    </tr>\n",
       "    <tr>\n",
       "      <th>1</th>\n",
       "      <td>[President, Trump, Arrives, at, UFC, 244, in, ...</td>\n",
       "      <td>[5, 12, 14, 14, 0, 7, 14, 4, 11, 14, 14, 14, 1...</td>\n",
       "    </tr>\n",
       "    <tr>\n",
       "      <th>2</th>\n",
       "      <td>[\", I, 've, been, in, law, enforcement, for, 2...</td>\n",
       "      <td>[14, 14, 14, 14, 14, 14, 14, 14, 14, 14, 14, 1...</td>\n",
       "    </tr>\n",
       "    <tr>\n",
       "      <th>3</th>\n",
       "      <td>[I, got, mine, yesterday, !, ****, Doctors, sa...</td>\n",
       "      <td>[14, 14, 14, 14, 14, 14, 14, 14, 14, 14, 14, 1...</td>\n",
       "    </tr>\n",
       "    <tr>\n",
       "      <th>4</th>\n",
       "      <td>[Mayo, Breast, Cancer, Vaccine, Could, Be, Ava...</td>\n",
       "      <td>[6, 13, 13, 13, 14, 14, 14, 14, 14, 14, 14, 14...</td>\n",
       "    </tr>\n",
       "  </tbody>\n",
       "</table>\n",
       "</div>"
      ],
      "text/plain": [
       "                                              tokens  \\\n",
       "0  [Morning, 5km, run, with, {{USERNAME}}, for, b...   \n",
       "1  [President, Trump, Arrives, at, UFC, 244, in, ...   \n",
       "2  [\", I, 've, been, in, law, enforcement, for, 2...   \n",
       "3  [I, got, mine, yesterday, !, ****, Doctors, sa...   \n",
       "4  [Mayo, Breast, Cancer, Vaccine, Could, Be, Ava...   \n",
       "\n",
       "                                                tags  \n",
       "0  [14, 14, 14, 14, 14, 14, 14, 14, 14, 14, 2, 14...  \n",
       "1  [5, 12, 14, 14, 0, 7, 14, 4, 11, 14, 14, 14, 1...  \n",
       "2  [14, 14, 14, 14, 14, 14, 14, 14, 14, 14, 14, 1...  \n",
       "3  [14, 14, 14, 14, 14, 14, 14, 14, 14, 14, 14, 1...  \n",
       "4  [6, 13, 13, 13, 14, 14, 14, 14, 14, 14, 14, 14...  "
      ]
     },
     "execution_count": 88,
     "metadata": {},
     "output_type": "execute_result"
    }
   ],
   "source": [
    "import pandas as pd\n",
    "\n",
    "tweetner7_all = pd.concat([tweetner7_train, tweetner7_test21, tweetner7_test20, tweetner7_val20, tweetner7_val21])\n",
    "tweetner7_all = tweetner7_all[[\"tokens\", \"tags\"]]\n",
    "tweetner7_all.head()"
   ]
  },
  {
   "cell_type": "code",
   "execution_count": 89,
   "metadata": {},
   "outputs": [
    {
     "data": {
      "text/html": [
       "<div>\n",
       "<style scoped>\n",
       "    .dataframe tbody tr th:only-of-type {\n",
       "        vertical-align: middle;\n",
       "    }\n",
       "\n",
       "    .dataframe tbody tr th {\n",
       "        vertical-align: top;\n",
       "    }\n",
       "\n",
       "    .dataframe thead th {\n",
       "        text-align: right;\n",
       "    }\n",
       "</style>\n",
       "<table border=\"1\" class=\"dataframe\">\n",
       "  <thead>\n",
       "    <tr style=\"text-align: right;\">\n",
       "      <th></th>\n",
       "      <th>tokens</th>\n",
       "      <th>tags</th>\n",
       "      <th>labels</th>\n",
       "    </tr>\n",
       "  </thead>\n",
       "  <tbody>\n",
       "    <tr>\n",
       "      <th>0</th>\n",
       "      <td>[Morning, 5km, run, with, {{USERNAME}}, for, b...</td>\n",
       "      <td>[14, 14, 14, 14, 14, 14, 14, 14, 14, 14, 2, 14...</td>\n",
       "      <td>[O, O, O, O, O, O, O, O, O, O, B-event, O, B-e...</td>\n",
       "    </tr>\n",
       "    <tr>\n",
       "      <th>1</th>\n",
       "      <td>[President, Trump, Arrives, at, UFC, 244, in, ...</td>\n",
       "      <td>[5, 12, 14, 14, 0, 7, 14, 4, 11, 14, 14, 14, 1...</td>\n",
       "      <td>[B-person, I-person, O, O, B-corporation, I-co...</td>\n",
       "    </tr>\n",
       "    <tr>\n",
       "      <th>2</th>\n",
       "      <td>[\", I, 've, been, in, law, enforcement, for, 2...</td>\n",
       "      <td>[14, 14, 14, 14, 14, 14, 14, 14, 14, 14, 14, 1...</td>\n",
       "      <td>[O, O, O, O, O, O, O, O, O, O, O, O, O, O, O, ...</td>\n",
       "    </tr>\n",
       "    <tr>\n",
       "      <th>3</th>\n",
       "      <td>[I, got, mine, yesterday, !, ****, Doctors, sa...</td>\n",
       "      <td>[14, 14, 14, 14, 14, 14, 14, 14, 14, 14, 14, 1...</td>\n",
       "      <td>[O, O, O, O, O, O, O, O, O, O, O, O, O, O, O, ...</td>\n",
       "    </tr>\n",
       "    <tr>\n",
       "      <th>4</th>\n",
       "      <td>[Mayo, Breast, Cancer, Vaccine, Could, Be, Ava...</td>\n",
       "      <td>[6, 13, 13, 13, 14, 14, 14, 14, 14, 14, 14, 14...</td>\n",
       "      <td>[B-product, I-product, I-product, I-product, O...</td>\n",
       "    </tr>\n",
       "  </tbody>\n",
       "</table>\n",
       "</div>"
      ],
      "text/plain": [
       "                                              tokens  \\\n",
       "0  [Morning, 5km, run, with, {{USERNAME}}, for, b...   \n",
       "1  [President, Trump, Arrives, at, UFC, 244, in, ...   \n",
       "2  [\", I, 've, been, in, law, enforcement, for, 2...   \n",
       "3  [I, got, mine, yesterday, !, ****, Doctors, sa...   \n",
       "4  [Mayo, Breast, Cancer, Vaccine, Could, Be, Ava...   \n",
       "\n",
       "                                                tags  \\\n",
       "0  [14, 14, 14, 14, 14, 14, 14, 14, 14, 14, 2, 14...   \n",
       "1  [5, 12, 14, 14, 0, 7, 14, 4, 11, 14, 14, 14, 1...   \n",
       "2  [14, 14, 14, 14, 14, 14, 14, 14, 14, 14, 14, 1...   \n",
       "3  [14, 14, 14, 14, 14, 14, 14, 14, 14, 14, 14, 1...   \n",
       "4  [6, 13, 13, 13, 14, 14, 14, 14, 14, 14, 14, 14...   \n",
       "\n",
       "                                              labels  \n",
       "0  [O, O, O, O, O, O, O, O, O, O, B-event, O, B-e...  \n",
       "1  [B-person, I-person, O, O, B-corporation, I-co...  \n",
       "2  [O, O, O, O, O, O, O, O, O, O, O, O, O, O, O, ...  \n",
       "3  [O, O, O, O, O, O, O, O, O, O, O, O, O, O, O, ...  \n",
       "4  [B-product, I-product, I-product, I-product, O...  "
      ]
     },
     "execution_count": 89,
     "metadata": {},
     "output_type": "execute_result"
    }
   ],
   "source": [
    "# adding label-column from tags\n",
    "entity_dict_tweetner = {\n",
    "    0: \"B-corporation\",\n",
    "    1: \"B-creative_work\",\n",
    "    2: \"B-event\",\n",
    "    3: \"B-group\",\n",
    "    4: \"B-location\",\n",
    "    5: \"B-person\",\n",
    "    6: \"B-product\",\n",
    "    7: \"I-corporation\",\n",
    "    8: \"I-creative_work\",\n",
    "    9: \"I-event\",\n",
    "    10: \"I-group\",\n",
    "    11: \"I-location\",\n",
    "    12: \"I-person\",\n",
    "    13: \"I-product\",\n",
    "    14: \"O\"\n",
    "}\n",
    "\n",
    "label_list_tweetner = list(entity_dict_tweetner.values())\n",
    "label_to_id_tweetner = {label: i for i, label in enumerate(label_list_tweetner)}\n",
    "id_to_label_tweetner = {i: label for label, i in label_to_id_tweetner.items()}\n",
    "\n",
    "tweetner7_all[\"labels\"] = tweetner7_all[\"tags\"].apply(lambda x: [id_to_label_tweetner[i] for i in x])\n",
    "tweetner7_all.head()"
   ]
  },
  {
   "cell_type": "code",
   "execution_count": 90,
   "metadata": {},
   "outputs": [
    {
     "data": {
      "text/plain": [
       "11380"
      ]
     },
     "execution_count": 90,
     "metadata": {},
     "output_type": "execute_result"
    }
   ],
   "source": [
    "len(tweetner7_all)"
   ]
  },
  {
   "cell_type": "markdown",
   "metadata": {},
   "source": [
    "## Synthetic data"
   ]
  },
  {
   "cell_type": "code",
   "execution_count": 91,
   "metadata": {},
   "outputs": [],
   "source": [
    "persons = [\n",
    "        \"John Smith\", \"Emily Chen\", \"Michael Johnson\", \"Sarah Williams\",\n",
    "        \"David Lee\", \"Maria Rodriguez\", \"James Brown\", \"Davis\",\n",
    "        \"Robert Kim\", \"Jennifer Lopez\", \"Thomas Wilson\", \"Jessica Taylor\", \"Cook\",\n",
    "        \"Carlos Vega\", \"Aisha Patel\", \"Daniel Park\", \"Olivia Nguyen\", \"Musk\", \"Smith\"\n",
    "    ]\n",
    "\n",
    "corporations = [\n",
    "        \"Google\", \"Microsoft\", \"Apple\", \"Amazon\", \"Meta\", \"BlackBerry\",\n",
    "        \"IBM\", \"Tesla\", \"Netflix\", \"Walmart\", \"JP Morgan\",\n",
    "        \"Acme Corp\", \"TechSolutions\", \"Global Systems\", \"DataWorks\",\n",
    "        \"Quantum Industries\", \"NexGen\", \"FutureSpace\", \"EcoSystems\", \"Nokia\", \"Motorola\"\n",
    "    ]\n",
    "\n",
    "products = [\n",
    "        \"iPhone 13\", \"Galaxy S22\", \"Surface Pro\", \"PlayStation 5\", \"Xbox Series X\",\n",
    "        \"MacBook Air\", \"Echo Dot\", \"AirPods Pro\", \"Tesla Model 3\", \"iPad Mini\",\n",
    "        \"Dyson V11\", \"Fitbit Charge\", \"Nintendo Switch\", \"Kindle Paperwhite\",\n",
    "        \"Roomba i7\", \"GoPro Hero\", \"Bose QuietComfort\", \"Instant Pot\", \"Echo\", \"AirTag\", \"ThinkPad\"\n",
    "    ]\n",
    "\n",
    "events = [\n",
    "        \"CES 2023\", \"Web Summit\", \"SXSW\", \"TechCrunch Disrupt\", \"E3 Expo\",\n",
    "        \"Google I/O\", \"WWDC\", \"Consumer Electronics Show\", \"Mobile World Congress\",\n",
    "        \"Black Hat Conference\", \"DEF CON\", \"AWS re:Invent\", \"Game Developers Conference\",\n",
    "        \"Dreamforce\", \"Comic-Con\", \"Coachella\", \"New York Fashion Week\", \"GamesCom\", \"AI-Con\"\n",
    "    ]\n",
    "\n",
    "locations = [\n",
    "        \"New York\", \"San Francisco\", \"London\", \"Tokyo\", \"Berlin\",\n",
    "        \"Paris\", \"Sydney\", \"Toronto\", \"Chicago\", \"Seattle\",\n",
    "        \"Los Angeles\", \"Miami\", \"Singapore\", \"Hong Kong\", \"Milwaukee\",\n",
    "        \"Dubai\", \"Barcelona\", \"Austin\", \"Stockholm\", \"Seoul\", \"Vienna\"\n",
    "    ]\n",
    "\n",
    "templates = [\n",
    "        \"{person} from {corporation} announced that {product} will be showcased at {event}.\",\n",
    "        \"At {event}, {person} demonstrated how {product} is revolutionizing {corporation}'s approach in {location}.\",\n",
    "        \"{corporation} has selected {location} as the venue for {event}, where {person} will launch {product}.\",\n",
    "        \"The new {product} developed by {corporation} will be presented by {person} during {event} in {location}.\",\n",
    "        \"{person} confirmed that {corporation} will be expanding its {product} line.\",\n",
    "        \"According to {person}, {corporation}'s latest {product} has been well-received at {event} in {location}.\",\n",
    "        \"Reviews from {event} suggest that {person} made a strong case for {corporation}'s new {product} in the {location} market.\",\n",
    "        \"{corporation} is planning to open a {product} store in {location}, announced {person} at {event}.\",\n",
    "        \"The collaboration between {corporation} and {person} resulted in {product}, which will finally debut at {event} in {location}.\",\n",
    "        \"Attendees at {event} in {location} were very impressed when {person} revealed {corporation}'s innovative {product}! The clapping didnt stop\",\n",
    "        \"{person} traveled to {location} to promote {product} at {event} on behalf of {corporation}.\",\n",
    "        \"The {product} team from {corporation}, led by {person}, won first prize at {event} in {location}. Let's go!\",\n",
    "        \"Consumers in {location} can now purchase {product} after {corporation}'s expansion announcement by {person} at {event}.\",\n",
    "        \"{product} is the must-have gadget of the year.\",\n",
    "        \"I hate the new {product}, the older ones are much better.\",\n",
    "        \"Less than 2 hours until they announce the details on the {product} giveaway!\",\n",
    "        \"All eyes are on {corporation} after the announcement of their new {product}.\",\n",
    "        \"It's time for {person} to leave {corporation}. What is he even doing.\",\n",
    "        \"{corporation} has been selected as the top AI startup in {location}, wow!\",\n",
    "        \"I am having so many issues with the {product}. {corporation} needs to fix this!\",\n",
    "        \"Can not wait for {product} also. They should sell them down at {event}.\",\n",
    "        \"Whats happening at {corporation}? {person} really needs to step up.\",\n",
    "        \"{corporation} is giving free {product} to open source coders who are attending this meet-up.\",\n",
    "        \"{person} was right! The {product} from {corporation} is revolutionary!\",\n",
    "        \"Less than 2 hours until we announce the details on the {product} giveaway!\",\n",
    "        \"{corporation} CEO {person}: Newest {product} rollout will begin next month!\",\n",
    "        \"{corporation} has a temporary Retail Store in {location} for the {product} release today. Opens at 5pm.\",\n",
    "        \"{person} said that {corporation} is working on something big.\",\n",
    "        \"It's time for {person} to leave {corporation}. What is he even doing?\",\n",
    "        \"{corporation} just keeps raising the bar with every {product} they launch. Crazy!\",\n",
    "        \"{person} just hinted at new features in {corporation}'s upcoming {product}. I am hyped!\",\n",
    "        \"Rumors say {corporation} is releasing {product} soon.\",\n",
    "        \"Just watched the {corporation} keynote. {product} looks impressive.\",\n",
    "        \"Is it just me, or does {corporation}'s {product} feel rushed and unfinished?\",\n",
    "        \"The {product} is making me rethink my loyalty to {corporation}. Its not good.\",\n",
    "        \"Who else is gonna get the new {product} next month?\",\n",
    "        \"{corporation}'s industry party tonight was great for the launch of {product}.\",\n",
    "        \"Attending {event} this week! Can't wait to see what {corporation} unveils about their upcoming {product}. Anyone else going?\",\n",
    "        \"Is anyone else experiencing issues with the new {product} update? {corporation}'s support hasn't been helpful. #TechSupport\",\n",
    "        \"Just switched from {product} to {product} and the difference is incredible. {corporation} really cooked with this one!\",\n",
    "        \"Hot take: {corporation}'s approach to development is outdated. They need to focus more on usability if they want to compete with {corporation}\",\n",
    "        \"The new update to {product} completely revolutionized my workflow. Thanks {corporation} for fixing the issue! #ProductivityTech\",\n",
    "        \"Arrived at {event} in {location}! The {corporation} booth is already packed with people trying the new {product}. #TechConference\",\n",
    "        \"Just spotted {person} from {corporation} at a restaurant in {location} right after {event}. Tried to ask about {product} rumors but no comment!\",\n",
    "        \"I snuck into the VIP section at {event} in {location} and got a selfie with {person}! Check my Insta! #Winning\",\n",
    "        \"PSA: Free {product} giveaways at {corporation}'s booth at {event} in {location}! Run don't walk, peeps! I got the last blue one\",\n",
    "        \"This {product} launch line at {corporation}'s store in {location} is ridiculous. Been here 3hrs and moved like 10 feet, But I NEED it today! #TechAddict\",\n",
    "        \"Shoutout to the nice {corporation} rep at {event} in {location} who gave me an extra {product} for my kid! Some tech people are actually decent humans\",\n",
    "        \"My {product} just updated itself and now I can't find ANYTHING. Hey {corporation}, stop 'fixing' stuff that ain't broken! {person} needs to chill with these changes\",\n",
    "        \"Omg {person} just liked my tweet criticizing {corporation}'s {product}! Screenshot this before they realize and unlike!\",\n",
    "        \"The way {person} casually uses {product} in interviews makes it seem so cool, but when I bought it from {corporation} it's just... meh. Marketing wins again\",\n",
    "        \"new CEO {person} has really not done much yet at {corporation}, hasnt he?\"\n",
    "    ]"
   ]
  },
  {
   "cell_type": "code",
   "execution_count": 92,
   "metadata": {},
   "outputs": [],
   "source": [
    "import random\n",
    "# reworked new function\n",
    "def generate_ner_dataset(num_examples, output_file=\"new_synthetic_ner_dataset.csv\", templates=templates,\n",
    "                         persons=persons, corporations=corporations, products=products, events=events, \n",
    "                         locations=locations):\n",
    "    data = []\n",
    "    \n",
    "    for _ in range(num_examples):\n",
    "        template = random.choice(templates)\n",
    "        \n",
    "        person = random.choice(persons)\n",
    "        corporation = random.choice(corporations)\n",
    "        product = random.choice(products)\n",
    "        event = random.choice(events)\n",
    "        location = random.choice(locations)\n",
    "        \n",
    "        sentence = template.format(\n",
    "            person=person,\n",
    "            corporation=corporation,\n",
    "            product=product,\n",
    "            event=event,\n",
    "            location=location\n",
    "        )\n",
    "        \n",
    "        tokens = []\n",
    "        labels = []\n",
    "        \n",
    "        raw_words = []\n",
    "        current_word = \"\"\n",
    "        for char in sentence:\n",
    "            if char.isalnum() or char in \"-'\":\n",
    "                current_word += char\n",
    "            else:\n",
    "                if current_word:\n",
    "                    raw_words.append(current_word)\n",
    "                    current_word = \"\"\n",
    "                if not char.isspace():\n",
    "                    raw_words.append(char)\n",
    "        if current_word:\n",
    "            raw_words.append(current_word)\n",
    "        \n",
    "        i = 0\n",
    "        while i < len(raw_words):\n",
    "            token = raw_words[i]\n",
    "            \n",
    "            found_entity = False\n",
    "            \n",
    "            if i < len(raw_words) - 1 and f\"{raw_words[i]} {raw_words[i+1]}\" in persons:\n",
    "                tokens.append(raw_words[i])\n",
    "                tokens.append(raw_words[i+1])\n",
    "                labels.append(\"B-person\")\n",
    "                labels.append(\"I-person\")\n",
    "                i += 2\n",
    "                found_entity = True\n",
    "                \n",
    "            elif i < len(raw_words) - 2 and f\"{raw_words[i]} {raw_words[i+1]} {raw_words[i+2]}\" in products:\n",
    "                tokens.append(raw_words[i])\n",
    "                tokens.append(raw_words[i+1])\n",
    "                tokens.append(raw_words[i+2])\n",
    "                labels.append(\"B-product\")\n",
    "                labels.append(\"I-product\")\n",
    "                labels.append(\"I-product\")\n",
    "                i += 3\n",
    "                found_entity = True\n",
    "            elif i < len(raw_words) - 1 and f\"{raw_words[i]} {raw_words[i+1]}\" in products:\n",
    "                tokens.append(raw_words[i])\n",
    "                tokens.append(raw_words[i+1])\n",
    "                labels.append(\"B-product\")\n",
    "                labels.append(\"I-product\")\n",
    "                i += 2\n",
    "                found_entity = True\n",
    "                \n",
    "            elif i < len(raw_words) - 2 and f\"{raw_words[i]} {raw_words[i+1]} {raw_words[i+2]}\" in events:\n",
    "                tokens.append(raw_words[i])\n",
    "                tokens.append(raw_words[i+1])\n",
    "                tokens.append(raw_words[i+2])\n",
    "                labels.append(\"B-event\")\n",
    "                labels.append(\"I-event\")\n",
    "                labels.append(\"I-event\")\n",
    "                i += 3\n",
    "                found_entity = True\n",
    "            elif i < len(raw_words) - 1 and f\"{raw_words[i]} {raw_words[i+1]}\" in events:\n",
    "                tokens.append(raw_words[i])\n",
    "                tokens.append(raw_words[i+1])\n",
    "                labels.append(\"B-event\")\n",
    "                labels.append(\"I-event\")\n",
    "                i += 2\n",
    "                found_entity = True\n",
    "                \n",
    "            elif i < len(raw_words) - 1 and f\"{raw_words[i]} {raw_words[i+1]}\" in locations:\n",
    "                tokens.append(raw_words[i])\n",
    "                tokens.append(raw_words[i+1])\n",
    "                labels.append(\"B-location\")\n",
    "                labels.append(\"I-location\")\n",
    "                i += 2\n",
    "                found_entity = True\n",
    "                \n",
    "            if not found_entity:\n",
    "                if token in [name.split()[0] for name in persons]:\n",
    "                    tokens.append(token)\n",
    "                    labels.append(\"B-person\")\n",
    "                    i += 1\n",
    "                elif token in corporations:\n",
    "                    tokens.append(token)\n",
    "                    labels.append(\"B-corporation\")\n",
    "                    i += 1\n",
    "                elif token in products:\n",
    "                    tokens.append(token)\n",
    "                    labels.append(\"B-product\")\n",
    "                    i += 1\n",
    "                elif token in events:\n",
    "                    tokens.append(token)\n",
    "                    labels.append(\"B-event\")\n",
    "                    i += 1\n",
    "                elif token in locations:\n",
    "                    tokens.append(token)\n",
    "                    labels.append(\"B-location\")\n",
    "                    i += 1\n",
    "                else:\n",
    "                    tokens.append(token)\n",
    "                    labels.append(\"O\")\n",
    "                    i += 1\n",
    "        \n",
    "        data.append({\"tokens\": tokens, \"labels\": labels, \"sentence\": sentence})\n",
    "    \n",
    "    df = pd.DataFrame(data)\n",
    "        \n",
    "    return df"
   ]
  },
  {
   "cell_type": "code",
   "execution_count": 93,
   "metadata": {},
   "outputs": [
    {
     "data": {
      "text/html": [
       "<div>\n",
       "<style scoped>\n",
       "    .dataframe tbody tr th:only-of-type {\n",
       "        vertical-align: middle;\n",
       "    }\n",
       "\n",
       "    .dataframe tbody tr th {\n",
       "        vertical-align: top;\n",
       "    }\n",
       "\n",
       "    .dataframe thead th {\n",
       "        text-align: right;\n",
       "    }\n",
       "</style>\n",
       "<table border=\"1\" class=\"dataframe\">\n",
       "  <thead>\n",
       "    <tr style=\"text-align: right;\">\n",
       "      <th></th>\n",
       "      <th>tokens</th>\n",
       "      <th>labels</th>\n",
       "    </tr>\n",
       "  </thead>\n",
       "  <tbody>\n",
       "    <tr>\n",
       "      <th>0</th>\n",
       "      <td>[It's, time, for, Daniel, Park, to, leave, Dat...</td>\n",
       "      <td>[O, O, O, B-person, I-person, O, O, B-corporat...</td>\n",
       "    </tr>\n",
       "    <tr>\n",
       "      <th>1</th>\n",
       "      <td>[Whats, happening, at, Global, Systems, ?, Sar...</td>\n",
       "      <td>[O, O, O, O, O, O, B-person, I-person, O, O, O...</td>\n",
       "    </tr>\n",
       "    <tr>\n",
       "      <th>2</th>\n",
       "      <td>[David, Lee, said, that, IBM, is, working, on,...</td>\n",
       "      <td>[B-person, I-person, O, O, B-corporation, O, O...</td>\n",
       "    </tr>\n",
       "    <tr>\n",
       "      <th>3</th>\n",
       "      <td>[Just, switched, from, Bose, QuietComfort, to,...</td>\n",
       "      <td>[O, O, O, B-product, I-product, O, B-product, ...</td>\n",
       "    </tr>\n",
       "    <tr>\n",
       "      <th>4</th>\n",
       "      <td>[Just, switched, from, Galaxy, S22, to, Galaxy...</td>\n",
       "      <td>[O, O, O, B-product, I-product, O, B-product, ...</td>\n",
       "    </tr>\n",
       "  </tbody>\n",
       "</table>\n",
       "</div>"
      ],
      "text/plain": [
       "                                              tokens  \\\n",
       "0  [It's, time, for, Daniel, Park, to, leave, Dat...   \n",
       "1  [Whats, happening, at, Global, Systems, ?, Sar...   \n",
       "2  [David, Lee, said, that, IBM, is, working, on,...   \n",
       "3  [Just, switched, from, Bose, QuietComfort, to,...   \n",
       "4  [Just, switched, from, Galaxy, S22, to, Galaxy...   \n",
       "\n",
       "                                              labels  \n",
       "0  [O, O, O, B-person, I-person, O, O, B-corporat...  \n",
       "1  [O, O, O, O, O, O, B-person, I-person, O, O, O...  \n",
       "2  [B-person, I-person, O, O, B-corporation, O, O...  \n",
       "3  [O, O, O, B-product, I-product, O, B-product, ...  \n",
       "4  [O, O, O, B-product, I-product, O, B-product, ...  "
      ]
     },
     "execution_count": 93,
     "metadata": {},
     "output_type": "execute_result"
    }
   ],
   "source": [
    "df_syn = generate_ner_dataset(5000)\n",
    "df_syn = df_syn[[\"tokens\", \"labels\"]]\n",
    "df_syn.head()"
   ]
  },
  {
   "cell_type": "code",
   "execution_count": 94,
   "metadata": {},
   "outputs": [
    {
     "data": {
      "text/html": [
       "<div>\n",
       "<style scoped>\n",
       "    .dataframe tbody tr th:only-of-type {\n",
       "        vertical-align: middle;\n",
       "    }\n",
       "\n",
       "    .dataframe tbody tr th {\n",
       "        vertical-align: top;\n",
       "    }\n",
       "\n",
       "    .dataframe thead th {\n",
       "        text-align: right;\n",
       "    }\n",
       "</style>\n",
       "<table border=\"1\" class=\"dataframe\">\n",
       "  <thead>\n",
       "    <tr style=\"text-align: right;\">\n",
       "      <th></th>\n",
       "      <th>tokens</th>\n",
       "      <th>labels</th>\n",
       "      <th>tags</th>\n",
       "    </tr>\n",
       "  </thead>\n",
       "  <tbody>\n",
       "    <tr>\n",
       "      <th>0</th>\n",
       "      <td>[It's, time, for, Daniel, Park, to, leave, Dat...</td>\n",
       "      <td>[O, O, O, B-person, I-person, O, O, B-corporat...</td>\n",
       "      <td>[10, 10, 10, 3, 8, 10, 10, 0, 10, 10, 10, 10, ...</td>\n",
       "    </tr>\n",
       "    <tr>\n",
       "      <th>1</th>\n",
       "      <td>[Whats, happening, at, Global, Systems, ?, Sar...</td>\n",
       "      <td>[O, O, O, O, O, O, B-person, I-person, O, O, O...</td>\n",
       "      <td>[10, 10, 10, 10, 10, 10, 3, 8, 10, 10, 10, 10,...</td>\n",
       "    </tr>\n",
       "    <tr>\n",
       "      <th>2</th>\n",
       "      <td>[David, Lee, said, that, IBM, is, working, on,...</td>\n",
       "      <td>[B-person, I-person, O, O, B-corporation, O, O...</td>\n",
       "      <td>[3, 8, 10, 10, 0, 10, 10, 10, 10, 10, 10]</td>\n",
       "    </tr>\n",
       "    <tr>\n",
       "      <th>3</th>\n",
       "      <td>[Just, switched, from, Bose, QuietComfort, to,...</td>\n",
       "      <td>[O, O, O, B-product, I-product, O, B-product, ...</td>\n",
       "      <td>[10, 10, 10, 4, 9, 10, 4, 9, 10, 10, 10, 10, 1...</td>\n",
       "    </tr>\n",
       "    <tr>\n",
       "      <th>4</th>\n",
       "      <td>[Just, switched, from, Galaxy, S22, to, Galaxy...</td>\n",
       "      <td>[O, O, O, B-product, I-product, O, B-product, ...</td>\n",
       "      <td>[10, 10, 10, 4, 9, 10, 4, 9, 10, 10, 10, 10, 1...</td>\n",
       "    </tr>\n",
       "  </tbody>\n",
       "</table>\n",
       "</div>"
      ],
      "text/plain": [
       "                                              tokens  \\\n",
       "0  [It's, time, for, Daniel, Park, to, leave, Dat...   \n",
       "1  [Whats, happening, at, Global, Systems, ?, Sar...   \n",
       "2  [David, Lee, said, that, IBM, is, working, on,...   \n",
       "3  [Just, switched, from, Bose, QuietComfort, to,...   \n",
       "4  [Just, switched, from, Galaxy, S22, to, Galaxy...   \n",
       "\n",
       "                                              labels  \\\n",
       "0  [O, O, O, B-person, I-person, O, O, B-corporat...   \n",
       "1  [O, O, O, O, O, O, B-person, I-person, O, O, O...   \n",
       "2  [B-person, I-person, O, O, B-corporation, O, O...   \n",
       "3  [O, O, O, B-product, I-product, O, B-product, ...   \n",
       "4  [O, O, O, B-product, I-product, O, B-product, ...   \n",
       "\n",
       "                                                tags  \n",
       "0  [10, 10, 10, 3, 8, 10, 10, 0, 10, 10, 10, 10, ...  \n",
       "1  [10, 10, 10, 10, 10, 10, 3, 8, 10, 10, 10, 10,...  \n",
       "2          [3, 8, 10, 10, 0, 10, 10, 10, 10, 10, 10]  \n",
       "3  [10, 10, 10, 4, 9, 10, 4, 9, 10, 10, 10, 10, 1...  \n",
       "4  [10, 10, 10, 4, 9, 10, 4, 9, 10, 10, 10, 10, 1...  "
      ]
     },
     "execution_count": 94,
     "metadata": {},
     "output_type": "execute_result"
    }
   ],
   "source": [
    "# adding tag-column from label-column\n",
    "def convert_to_numeric(label_list):\n",
    "    return [label_to_id.get(label, -100) for label in label_list]\n",
    "\n",
    "df_syn[\"tags\"] = df_syn[\"labels\"].apply(convert_to_numeric)\n",
    "df_syn.head()"
   ]
  },
  {
   "cell_type": "markdown",
   "metadata": {},
   "source": [
    "## Combining all NER-datasets"
   ]
  },
  {
   "cell_type": "code",
   "execution_count": 95,
   "metadata": {},
   "outputs": [
    {
     "data": {
      "text/html": [
       "<div>\n",
       "<style scoped>\n",
       "    .dataframe tbody tr th:only-of-type {\n",
       "        vertical-align: middle;\n",
       "    }\n",
       "\n",
       "    .dataframe tbody tr th {\n",
       "        vertical-align: top;\n",
       "    }\n",
       "\n",
       "    .dataframe thead th {\n",
       "        text-align: right;\n",
       "    }\n",
       "</style>\n",
       "<table border=\"1\" class=\"dataframe\">\n",
       "  <thead>\n",
       "    <tr style=\"text-align: right;\">\n",
       "      <th></th>\n",
       "      <th>tokens</th>\n",
       "      <th>labels</th>\n",
       "      <th>tags</th>\n",
       "    </tr>\n",
       "  </thead>\n",
       "  <tbody>\n",
       "    <tr>\n",
       "      <th>0</th>\n",
       "      <td>[., {@Las Vegas Raiders@}, stand, tall, in, th...</td>\n",
       "      <td>[O, B-group, O, O, O, O, O, O, O, O, O, O, O, ...</td>\n",
       "      <td>[14, 3, 14, 14, 14, 14, 14, 14, 14, 14, 14, 14...</td>\n",
       "    </tr>\n",
       "    <tr>\n",
       "      <th>1</th>\n",
       "      <td>[The, new, Kindle, Paperwhite, developed, by, ...</td>\n",
       "      <td>[O, O, B-product, I-product, O, O, O, O, O, O,...</td>\n",
       "      <td>[10, 10, 4, 9, 10, 10, 10, 10, 10, 10, 10, 10,...</td>\n",
       "    </tr>\n",
       "    <tr>\n",
       "      <th>2</th>\n",
       "      <td>[EDIE, IN, BETWEEN, comes, out, THIS, MONTH, ,...</td>\n",
       "      <td>[B-person, O, O, O, O, O, O, O, O, O, O, O, O,...</td>\n",
       "      <td>[5, 14, 14, 14, 14, 14, 14, 14, 14, 14, 14, 14...</td>\n",
       "    </tr>\n",
       "    <tr>\n",
       "      <th>3</th>\n",
       "      <td>[‘, Joe, Biden, may, have, won, the, keys, to,...</td>\n",
       "      <td>[O, B-person, I-person, O, O, O, O, O, O, O, B...</td>\n",
       "      <td>[14, 5, 12, 14, 14, 14, 14, 14, 14, 14, 4, 11,...</td>\n",
       "    </tr>\n",
       "    <tr>\n",
       "      <th>4</th>\n",
       "      <td>[Imma, hit, reload, until, I, see, additional,...</td>\n",
       "      <td>[O, O, O, O, O, O, O, O, O, O, O, O, O, O, O, ...</td>\n",
       "      <td>[14, 14, 14, 14, 14, 14, 14, 14, 14, 14, 14, 1...</td>\n",
       "    </tr>\n",
       "  </tbody>\n",
       "</table>\n",
       "</div>"
      ],
      "text/plain": [
       "                                              tokens  \\\n",
       "0  [., {@Las Vegas Raiders@}, stand, tall, in, th...   \n",
       "1  [The, new, Kindle, Paperwhite, developed, by, ...   \n",
       "2  [EDIE, IN, BETWEEN, comes, out, THIS, MONTH, ,...   \n",
       "3  [‘, Joe, Biden, may, have, won, the, keys, to,...   \n",
       "4  [Imma, hit, reload, until, I, see, additional,...   \n",
       "\n",
       "                                              labels  \\\n",
       "0  [O, B-group, O, O, O, O, O, O, O, O, O, O, O, ...   \n",
       "1  [O, O, B-product, I-product, O, O, O, O, O, O,...   \n",
       "2  [B-person, O, O, O, O, O, O, O, O, O, O, O, O,...   \n",
       "3  [O, B-person, I-person, O, O, O, O, O, O, O, B...   \n",
       "4  [O, O, O, O, O, O, O, O, O, O, O, O, O, O, O, ...   \n",
       "\n",
       "                                                tags  \n",
       "0  [14, 3, 14, 14, 14, 14, 14, 14, 14, 14, 14, 14...  \n",
       "1  [10, 10, 4, 9, 10, 10, 10, 10, 10, 10, 10, 10,...  \n",
       "2  [5, 14, 14, 14, 14, 14, 14, 14, 14, 14, 14, 14...  \n",
       "3  [14, 5, 12, 14, 14, 14, 14, 14, 14, 14, 4, 11,...  \n",
       "4  [14, 14, 14, 14, 14, 14, 14, 14, 14, 14, 14, 1...  "
      ]
     },
     "execution_count": 95,
     "metadata": {},
     "output_type": "execute_result"
    }
   ],
   "source": [
    "df_ner_corpus = pd.concat([wnut_complete, tweetner7_all, df_syn], axis=0).sample(frac=1, random_state=42).reset_index()\n",
    "df_ner_corpus = df_ner_corpus[[\"tokens\", \"labels\", \"tags\"]]\n",
    "df_ner_corpus.head()"
   ]
  },
  {
   "cell_type": "code",
   "execution_count": 96,
   "metadata": {},
   "outputs": [
    {
     "name": "stdout",
     "output_type": "stream",
     "text": [
      "24835\n",
      "24835\n"
     ]
    }
   ],
   "source": [
    "print(len(df_ner_corpus))\n",
    "df_ner_corpus.dropna(inplace=True)\n",
    "print(len(df_ner_corpus))"
   ]
  },
  {
   "cell_type": "code",
   "execution_count": 97,
   "metadata": {},
   "outputs": [
    {
     "data": {
      "text/plain": [
       "labels\n",
       "O                  541040\n",
       "B-person            15562\n",
       "B-product            9179\n",
       "B-corporation        7588\n",
       "B-location           6681\n",
       "I-person             6587\n",
       "I-product            6577\n",
       "B-event              6526\n",
       "I-event              6100\n",
       "B-group              5836\n",
       "I-creative_work      4911\n",
       "B-creative_work      3543\n",
       "I-location           2367\n",
       "I-group              1990\n",
       "I-corporation        1535\n",
       "Name: count, dtype: int64"
      ]
     },
     "execution_count": 97,
     "metadata": {},
     "output_type": "execute_result"
    }
   ],
   "source": [
    "df_ner_corpus[\"labels\"].explode().value_counts()"
   ]
  },
  {
   "cell_type": "code",
   "execution_count": 98,
   "metadata": {},
   "outputs": [],
   "source": [
    "df_ner_corpus[\"labels\"] = df_ner_corpus[\"labels\"].apply(convert_unwanted_entities)"
   ]
  },
  {
   "cell_type": "code",
   "execution_count": 99,
   "metadata": {},
   "outputs": [
    {
     "data": {
      "text/plain": [
       "labels\n",
       "O                557320\n",
       "B-person          15562\n",
       "B-product          9179\n",
       "B-corporation      7588\n",
       "B-location         6681\n",
       "I-person           6587\n",
       "I-product          6577\n",
       "B-event            6526\n",
       "I-event            6100\n",
       "I-location         2367\n",
       "I-corporation      1535\n",
       "Name: count, dtype: int64"
      ]
     },
     "execution_count": 99,
     "metadata": {},
     "output_type": "execute_result"
    }
   ],
   "source": [
    "df_ner_corpus[\"labels\"].explode().value_counts()"
   ]
  },
  {
   "cell_type": "code",
   "execution_count": 100,
   "metadata": {},
   "outputs": [
    {
     "data": {
      "text/plain": [
       "0.8903744596835255"
      ]
     },
     "execution_count": 100,
     "metadata": {},
     "output_type": "execute_result"
    }
   ],
   "source": [
    "557394/len(df_ner_corpus[\"labels\"].explode())"
   ]
  },
  {
   "cell_type": "code",
   "execution_count": 101,
   "metadata": {},
   "outputs": [
    {
     "data": {
      "text/html": [
       "<div>\n",
       "<style scoped>\n",
       "    .dataframe tbody tr th:only-of-type {\n",
       "        vertical-align: middle;\n",
       "    }\n",
       "\n",
       "    .dataframe tbody tr th {\n",
       "        vertical-align: top;\n",
       "    }\n",
       "\n",
       "    .dataframe thead th {\n",
       "        text-align: right;\n",
       "    }\n",
       "</style>\n",
       "<table border=\"1\" class=\"dataframe\">\n",
       "  <thead>\n",
       "    <tr style=\"text-align: right;\">\n",
       "      <th></th>\n",
       "      <th>tokens</th>\n",
       "      <th>labels</th>\n",
       "      <th>tags</th>\n",
       "    </tr>\n",
       "  </thead>\n",
       "  <tbody>\n",
       "    <tr>\n",
       "      <th>0</th>\n",
       "      <td>[., {@Las Vegas Raiders@}, stand, tall, in, th...</td>\n",
       "      <td>[O, O, O, O, O, O, O, O, O, O, O, O, O, O, O, ...</td>\n",
       "      <td>[10, 10, 10, 10, 10, 10, 10, 10, 10, 10, 10, 1...</td>\n",
       "    </tr>\n",
       "    <tr>\n",
       "      <th>1</th>\n",
       "      <td>[The, new, Kindle, Paperwhite, developed, by, ...</td>\n",
       "      <td>[O, O, B-product, I-product, O, O, O, O, O, O,...</td>\n",
       "      <td>[10, 10, 4, 9, 10, 10, 10, 10, 10, 10, 10, 10,...</td>\n",
       "    </tr>\n",
       "    <tr>\n",
       "      <th>2</th>\n",
       "      <td>[EDIE, IN, BETWEEN, comes, out, THIS, MONTH, ,...</td>\n",
       "      <td>[B-person, O, O, O, O, O, O, O, O, O, O, O, O,...</td>\n",
       "      <td>[3, 10, 10, 10, 10, 10, 10, 10, 10, 10, 10, 10...</td>\n",
       "    </tr>\n",
       "    <tr>\n",
       "      <th>3</th>\n",
       "      <td>[‘, Joe, Biden, may, have, won, the, keys, to,...</td>\n",
       "      <td>[O, B-person, I-person, O, O, O, O, O, O, O, B...</td>\n",
       "      <td>[10, 3, 8, 10, 10, 10, 10, 10, 10, 10, 2, 7, 1...</td>\n",
       "    </tr>\n",
       "    <tr>\n",
       "      <th>4</th>\n",
       "      <td>[Imma, hit, reload, until, I, see, additional,...</td>\n",
       "      <td>[O, O, O, O, O, O, O, O, O, O, O, O, O, O, O, ...</td>\n",
       "      <td>[10, 10, 10, 10, 10, 10, 10, 10, 10, 10, 10, 1...</td>\n",
       "    </tr>\n",
       "  </tbody>\n",
       "</table>\n",
       "</div>"
      ],
      "text/plain": [
       "                                              tokens  \\\n",
       "0  [., {@Las Vegas Raiders@}, stand, tall, in, th...   \n",
       "1  [The, new, Kindle, Paperwhite, developed, by, ...   \n",
       "2  [EDIE, IN, BETWEEN, comes, out, THIS, MONTH, ,...   \n",
       "3  [‘, Joe, Biden, may, have, won, the, keys, to,...   \n",
       "4  [Imma, hit, reload, until, I, see, additional,...   \n",
       "\n",
       "                                              labels  \\\n",
       "0  [O, O, O, O, O, O, O, O, O, O, O, O, O, O, O, ...   \n",
       "1  [O, O, B-product, I-product, O, O, O, O, O, O,...   \n",
       "2  [B-person, O, O, O, O, O, O, O, O, O, O, O, O,...   \n",
       "3  [O, B-person, I-person, O, O, O, O, O, O, O, B...   \n",
       "4  [O, O, O, O, O, O, O, O, O, O, O, O, O, O, O, ...   \n",
       "\n",
       "                                                tags  \n",
       "0  [10, 10, 10, 10, 10, 10, 10, 10, 10, 10, 10, 1...  \n",
       "1  [10, 10, 4, 9, 10, 10, 10, 10, 10, 10, 10, 10,...  \n",
       "2  [3, 10, 10, 10, 10, 10, 10, 10, 10, 10, 10, 10...  \n",
       "3  [10, 3, 8, 10, 10, 10, 10, 10, 10, 10, 2, 7, 1...  \n",
       "4  [10, 10, 10, 10, 10, 10, 10, 10, 10, 10, 10, 1...  "
      ]
     },
     "execution_count": 101,
     "metadata": {},
     "output_type": "execute_result"
    }
   ],
   "source": [
    "# overwriting the tags-column from tweetner7-tags to self-defined tags to fit new label-column\n",
    "df_ner_corpus[\"tags\"] = df_ner_corpus[\"labels\"].apply(lambda x: [label_to_id[i] for i in x])\n",
    "df_ner_corpus.head()"
   ]
  },
  {
   "cell_type": "code",
   "execution_count": 102,
   "metadata": {},
   "outputs": [
    {
     "data": {
      "text/html": [
       "<div>\n",
       "<style scoped>\n",
       "    .dataframe tbody tr th:only-of-type {\n",
       "        vertical-align: middle;\n",
       "    }\n",
       "\n",
       "    .dataframe tbody tr th {\n",
       "        vertical-align: top;\n",
       "    }\n",
       "\n",
       "    .dataframe thead th {\n",
       "        text-align: right;\n",
       "    }\n",
       "</style>\n",
       "<table border=\"1\" class=\"dataframe\">\n",
       "  <thead>\n",
       "    <tr style=\"text-align: right;\">\n",
       "      <th></th>\n",
       "      <th>tokens</th>\n",
       "      <th>labels</th>\n",
       "      <th>tags</th>\n",
       "    </tr>\n",
       "  </thead>\n",
       "  <tbody>\n",
       "    <tr>\n",
       "      <th>0</th>\n",
       "      <td>[., {{MENTION}}, stand, tall, in, the, red, zo...</td>\n",
       "      <td>[O, O, O, O, O, O, O, O, O, O, O, O, O, O, O, ...</td>\n",
       "      <td>[10, 10, 10, 10, 10, 10, 10, 10, 10, 10, 10, 1...</td>\n",
       "    </tr>\n",
       "    <tr>\n",
       "      <th>1</th>\n",
       "      <td>[The, new, Kindle, Paperwhite, developed, by, ...</td>\n",
       "      <td>[O, O, B-product, I-product, O, O, O, O, O, O,...</td>\n",
       "      <td>[10, 10, 4, 9, 10, 10, 10, 10, 10, 10, 10, 10,...</td>\n",
       "    </tr>\n",
       "    <tr>\n",
       "      <th>2</th>\n",
       "      <td>[EDIE, IN, BETWEEN, comes, out, THIS, MONTH, ,...</td>\n",
       "      <td>[B-person, O, O, O, O, O, O, O, O, O, O, O, O,...</td>\n",
       "      <td>[3, 10, 10, 10, 10, 10, 10, 10, 10, 10, 10, 10...</td>\n",
       "    </tr>\n",
       "    <tr>\n",
       "      <th>3</th>\n",
       "      <td>[‘, Joe, Biden, may, have, won, the, keys, to,...</td>\n",
       "      <td>[O, B-person, I-person, O, O, O, O, O, O, O, B...</td>\n",
       "      <td>[10, 3, 8, 10, 10, 10, 10, 10, 10, 10, 2, 7, 1...</td>\n",
       "    </tr>\n",
       "    <tr>\n",
       "      <th>4</th>\n",
       "      <td>[Imma, hit, reload, until, I, see, additional,...</td>\n",
       "      <td>[O, O, O, O, O, O, O, O, O, O, O, O, O, O, O, ...</td>\n",
       "      <td>[10, 10, 10, 10, 10, 10, 10, 10, 10, 10, 10, 1...</td>\n",
       "    </tr>\n",
       "  </tbody>\n",
       "</table>\n",
       "</div>"
      ],
      "text/plain": [
       "                                              tokens  \\\n",
       "0  [., {{MENTION}}, stand, tall, in, the, red, zo...   \n",
       "1  [The, new, Kindle, Paperwhite, developed, by, ...   \n",
       "2  [EDIE, IN, BETWEEN, comes, out, THIS, MONTH, ,...   \n",
       "3  [‘, Joe, Biden, may, have, won, the, keys, to,...   \n",
       "4  [Imma, hit, reload, until, I, see, additional,...   \n",
       "\n",
       "                                              labels  \\\n",
       "0  [O, O, O, O, O, O, O, O, O, O, O, O, O, O, O, ...   \n",
       "1  [O, O, B-product, I-product, O, O, O, O, O, O,...   \n",
       "2  [B-person, O, O, O, O, O, O, O, O, O, O, O, O,...   \n",
       "3  [O, B-person, I-person, O, O, O, O, O, O, O, B...   \n",
       "4  [O, O, O, O, O, O, O, O, O, O, O, O, O, O, O, ...   \n",
       "\n",
       "                                                tags  \n",
       "0  [10, 10, 10, 10, 10, 10, 10, 10, 10, 10, 10, 1...  \n",
       "1  [10, 10, 4, 9, 10, 10, 10, 10, 10, 10, 10, 10,...  \n",
       "2  [3, 10, 10, 10, 10, 10, 10, 10, 10, 10, 10, 10...  \n",
       "3  [10, 3, 8, 10, 10, 10, 10, 10, 10, 10, 2, 7, 1...  \n",
       "4  [10, 10, 10, 10, 10, 10, 10, 10, 10, 10, 10, 1...  "
      ]
     },
     "execution_count": 102,
     "metadata": {},
     "output_type": "execute_result"
    }
   ],
   "source": [
    "# replacing urls and user mentions in tokens-column\n",
    "def format_token_list(token_list):\n",
    "    formatted_tokens = []\n",
    "    for token in token_list:\n",
    "        # mask web urls\n",
    "        if extractor.find_urls(token):\n",
    "            formatted_tokens.append(\"{{URL}}\")\n",
    "        # format twitter mentions\n",
    "        elif re.search(r'\\S*@\\S*', token):\n",
    "            formatted_tokens.append(\"{{MENTION}}\")\n",
    "        else:\n",
    "            formatted_tokens.append(token)\n",
    "            \n",
    "    return formatted_tokens\n",
    "\n",
    "df_ner_corpus[\"tokens\"] = df_ner_corpus[\"tokens\"].apply(format_token_list)\n",
    "df_ner_corpus.head()"
   ]
  },
  {
   "cell_type": "code",
   "execution_count": 103,
   "metadata": {},
   "outputs": [],
   "source": [
    "# saving to json to preserve python data structures\n",
    "df_ner_corpus.to_json(\"./NER_data/NER_corpus.json\", orient=\"records\")"
   ]
  }
 ],
 "metadata": {
  "kernelspec": {
   "display_name": "Python 3",
   "language": "python",
   "name": "python3"
  },
  "language_info": {
   "codemirror_mode": {
    "name": "ipython",
    "version": 3
   },
   "file_extension": ".py",
   "mimetype": "text/x-python",
   "name": "python",
   "nbconvert_exporter": "python",
   "pygments_lexer": "ipython3",
   "version": "3.12.3"
  }
 },
 "nbformat": 4,
 "nbformat_minor": 2
}
