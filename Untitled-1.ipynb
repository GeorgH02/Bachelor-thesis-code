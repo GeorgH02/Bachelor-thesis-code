{
 "cells": [
  {
   "cell_type": "code",
   "execution_count": null,
   "id": "992006f9",
   "metadata": {},
   "outputs": [],
   "source": [
    "# Save this as deep_clean_notebooks.py\n",
    "import os\n",
    "import json\n",
    "import nbformat\n",
    "\n",
    "def deep_clean_notebook(filepath):\n",
    "    try:\n",
    "        # First try to read with nbformat which handles jupyter notebook format better\n",
    "        notebook = nbformat.read(filepath, as_version=4)\n",
    "        \n",
    "        # Remove ALL widget metadata\n",
    "        if 'widgets' in notebook.metadata:\n",
    "            del notebook.metadata['widgets']\n",
    "        \n",
    "        # Remove other potentially problematic metadata\n",
    "        for key in list(notebook.metadata.keys()):\n",
    "            if key not in ['kernelspec', 'language_info']:\n",
    "                del notebook.metadata[key]\n",
    "        \n",
    "        # Clean cell metadata too\n",
    "        for cell in notebook.cells:\n",
    "            # Keep only essential cell metadata\n",
    "            essential_keys = ['cell_type']\n",
    "            cell.metadata = {k: cell.metadata[k] for k in essential_keys if k in cell.metadata}\n",
    "            \n",
    "            # For code cells, optionally clear outputs if they might be causing issues\n",
    "            if cell.cell_type == 'code' and hasattr(cell, 'outputs'):\n",
    "                cell.outputs = []\n",
    "        \n",
    "        # Write back with nbformat\n",
    "        nbformat.write(notebook, filepath)\n",
    "        print(f\"Deeply cleaned: {filepath}\")\n",
    "        return True\n",
    "    except Exception as e:\n",
    "        print(f\"Error with {filepath}: {str(e)}\")\n",
    "        return False\n",
    "\n",
    "# Find and clean all notebooks\n",
    "cleaned_count = 0\n",
    "error_count = 0\n",
    "for root, dirs, files in os.walk('.'):\n",
    "    for file in files:\n",
    "        if file.endswith('.ipynb') and '.ipynb_checkpoints' not in root:\n",
    "            result = deep_clean_notebook(os.path.join(root, file))\n",
    "            if result:\n",
    "                cleaned_count += 1\n",
    "            else:\n",
    "                error_count += 1\n",
    "\n",
    "print(f\"Summary: Cleaned {cleaned_count} notebooks, Errors in {error_count} notebooks\")"
   ]
  },
  {
   "cell_type": "code",
   "execution_count": null,
   "id": "b4b06d7d",
   "metadata": {},
   "outputs": [],
   "source": []
  }
 ],
 "metadata": {
  "language_info": {
   "name": "python"
  }
 },
 "nbformat": 4,
 "nbformat_minor": 5
}
